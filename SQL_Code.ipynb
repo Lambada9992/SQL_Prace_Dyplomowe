{
    "metadata": {
        "kernelspec": {
            "name": "SQL",
            "display_name": "SQL",
            "language": "sql"
        },
        "language_info": {
            "name": "sql",
            "version": ""
        }
    },
    "nbformat_minor": 2,
    "nbformat": 4,
    "cells": [
        {
            "cell_type": "code",
            "source": [
                "-- wyswietlenie baz danych na serwerze\r\n",
                "select [name] as database_name,\r\n",
                "    database_id,\r\n",
                "    create_date\r\n",
                "from sys.databases\r\n",
                "order by name"
            ],
            "metadata": {
                "azdata_cell_guid": "5301cf49-5343-4206-af3a-80000a6cb3b7",
                "tags": []
            },
            "outputs": [
                {
                    "output_type": "display_data",
                    "data": {
                        "text/html": "(2 rows affected)"
                    },
                    "metadata": {}
                },
                {
                    "output_type": "display_data",
                    "data": {
                        "text/html": "Total execution time: 00:00:00.030"
                    },
                    "metadata": {}
                },
                {
                    "output_type": "execute_result",
                    "execution_count": 202,
                    "data": {
                        "application/vnd.dataresource+json": {
                            "schema": {
                                "fields": [
                                    {
                                        "name": "database_name"
                                    },
                                    {
                                        "name": "database_id"
                                    },
                                    {
                                        "name": "create_date"
                                    }
                                ]
                            },
                            "data": [
                                {
                                    "0": "master",
                                    "1": "1",
                                    "2": "2020-12-07 18:39:43.607"
                                },
                                {
                                    "0": "okno-bd-projekt",
                                    "1": "5",
                                    "2": "2020-12-07 19:24:48.477"
                                }
                            ]
                        },
                        "text/html": "<table><tr><th>database_name</th><th>database_id</th><th>create_date</th></tr><tr><td>master</td><td>1</td><td>2020-12-07 18:39:43.607</td></tr><tr><td>okno-bd-projekt</td><td>5</td><td>2020-12-07 19:24:48.477</td></tr></table>"
                    },
                    "metadata": {
                        "resultSet": {
                            "id": 0,
                            "batchId": 0,
                            "rowCount": 2,
                            "complete": true,
                            "columnInfo": [
                                {
                                    "isBytes": false,
                                    "isChars": true,
                                    "isSqlVariant": false,
                                    "isUdt": false,
                                    "isXml": false,
                                    "isJson": false,
                                    "sqlDbType": 12,
                                    "isHierarchyId": false,
                                    "isSqlXmlType": false,
                                    "isUnknownType": false,
                                    "isUpdatable": false,
                                    "allowDBNull": true,
                                    "baseCatalogName": null,
                                    "baseColumnName": null,
                                    "baseSchemaName": null,
                                    "baseServerName": null,
                                    "baseTableName": null,
                                    "columnName": "database_name",
                                    "columnOrdinal": 0,
                                    "columnSize": 128,
                                    "isAliased": null,
                                    "isAutoIncrement": false,
                                    "isExpression": null,
                                    "isHidden": null,
                                    "isIdentity": false,
                                    "isKey": null,
                                    "isLong": false,
                                    "isReadOnly": true,
                                    "isUnique": false,
                                    "numericPrecision": 255,
                                    "numericScale": 255,
                                    "udtAssemblyQualifiedName": null,
                                    "dataType": "System.String, System.Private.CoreLib, Version=4.0.0.0, Culture=neutral, PublicKeyToken=7cec85d7bea7798e",
                                    "dataTypeName": "nvarchar"
                                },
                                {
                                    "isBytes": false,
                                    "isChars": false,
                                    "isSqlVariant": false,
                                    "isUdt": false,
                                    "isXml": false,
                                    "isJson": false,
                                    "sqlDbType": 8,
                                    "isHierarchyId": false,
                                    "isSqlXmlType": false,
                                    "isUnknownType": false,
                                    "isUpdatable": true,
                                    "allowDBNull": false,
                                    "baseCatalogName": null,
                                    "baseColumnName": null,
                                    "baseSchemaName": null,
                                    "baseServerName": null,
                                    "baseTableName": null,
                                    "columnName": "database_id",
                                    "columnOrdinal": 1,
                                    "columnSize": 4,
                                    "isAliased": null,
                                    "isAutoIncrement": false,
                                    "isExpression": null,
                                    "isHidden": null,
                                    "isIdentity": false,
                                    "isKey": null,
                                    "isLong": false,
                                    "isReadOnly": false,
                                    "isUnique": false,
                                    "numericPrecision": 10,
                                    "numericScale": 255,
                                    "udtAssemblyQualifiedName": null,
                                    "dataType": "System.Int32, System.Private.CoreLib, Version=4.0.0.0, Culture=neutral, PublicKeyToken=7cec85d7bea7798e",
                                    "dataTypeName": "int"
                                },
                                {
                                    "isBytes": false,
                                    "isChars": false,
                                    "isSqlVariant": false,
                                    "isUdt": false,
                                    "isXml": false,
                                    "isJson": false,
                                    "sqlDbType": 4,
                                    "isHierarchyId": false,
                                    "isSqlXmlType": false,
                                    "isUnknownType": false,
                                    "isUpdatable": true,
                                    "allowDBNull": false,
                                    "baseCatalogName": null,
                                    "baseColumnName": null,
                                    "baseSchemaName": null,
                                    "baseServerName": null,
                                    "baseTableName": null,
                                    "columnName": "create_date",
                                    "columnOrdinal": 2,
                                    "columnSize": 8,
                                    "isAliased": null,
                                    "isAutoIncrement": false,
                                    "isExpression": null,
                                    "isHidden": null,
                                    "isIdentity": false,
                                    "isKey": null,
                                    "isLong": false,
                                    "isReadOnly": false,
                                    "isUnique": false,
                                    "numericPrecision": 23,
                                    "numericScale": 3,
                                    "udtAssemblyQualifiedName": null,
                                    "dataType": "System.DateTime, System.Private.CoreLib, Version=4.0.0.0, Culture=neutral, PublicKeyToken=7cec85d7bea7798e",
                                    "dataTypeName": "datetime"
                                }
                            ],
                            "specialAction": {
                                "none": true,
                                "expectYukonXMLShowPlan": false
                            }
                        }
                    }
                }
            ],
            "execution_count": 202
        },
        {
            "cell_type": "code",
            "source": [
                "-- DROP WSZYSTKICH KLUCZY\r\n",
                "while(exists(select 1 from INFORMATION_SCHEMA.TABLE_CONSTRAINTS where CONSTRAINT_TYPE='FOREIGN KEY'))\r\n",
                "begin\r\n",
                " declare @sql nvarchar(2000)\r\n",
                " SELECT TOP 1 @sql=('ALTER TABLE ' + TABLE_SCHEMA + '.[' + TABLE_NAME\r\n",
                " + '] DROP CONSTRAINT [' + CONSTRAINT_NAME + ']')\r\n",
                " FROM information_schema.table_constraints\r\n",
                " WHERE CONSTRAINT_TYPE = 'FOREIGN KEY'\r\n",
                " exec (@sql)\r\n",
                " --PRINT @sql\r\n",
                "end\r\n",
                ""
            ],
            "metadata": {
                "azdata_cell_guid": "1a8c64c3-8ebf-4a07-8aec-326c4ee1c40c",
                "tags": []
            },
            "outputs": [
                {
                    "output_type": "display_data",
                    "data": {
                        "text/html": "Commands completed successfully."
                    },
                    "metadata": {}
                },
                {
                    "output_type": "display_data",
                    "data": {
                        "text/html": "Total execution time: 00:00:00.197"
                    },
                    "metadata": {}
                }
            ],
            "execution_count": 203
        },
        {
            "cell_type": "code",
            "source": [
                "-- DROP WSZYSTKICH TABEL\r\n",
                "while(exists(select 1 from INFORMATION_SCHEMA.TABLES \r\n",
                "             where TABLE_NAME != '__MigrationHistory' \r\n",
                "             AND TABLE_TYPE = 'BASE TABLE'))\r\n",
                "begin\r\n",
                " declare @sql nvarchar(2000)\r\n",
                " SELECT TOP 1 @sql=('DROP TABLE ' + TABLE_SCHEMA + '.[' + TABLE_NAME\r\n",
                " + ']')\r\n",
                " FROM INFORMATION_SCHEMA.TABLES\r\n",
                " WHERE TABLE_NAME != '__MigrationHistory' AND TABLE_TYPE = 'BASE TABLE'\r\n",
                "exec (@sql)\r\n",
                " /* you dont need this line, it just shows what was executed */\r\n",
                " --PRINT @sql\r\n",
                "end"
            ],
            "metadata": {
                "azdata_cell_guid": "36365794-6821-42f3-b192-49b20d478f3e",
                "tags": []
            },
            "outputs": [
                {
                    "output_type": "display_data",
                    "data": {
                        "text/html": "Commands completed successfully."
                    },
                    "metadata": {}
                },
                {
                    "output_type": "display_data",
                    "data": {
                        "text/html": "Total execution time: 00:00:00.148"
                    },
                    "metadata": {}
                }
            ],
            "execution_count": 204
        },
        {
            "cell_type": "code",
            "source": [
                "-- DROP FUNCKJI\r\n",
                "DROP FUNCTION IF EXISTS [dbo].[IloscAutorowPracy]\r\n",
                "GO\r\n",
                "DROP FUNCTION IF EXISTS [dbo].[CzyMozeBycPromotorem]\r\n",
                "GO\r\n",
                ""
            ],
            "metadata": {
                "azdata_cell_guid": "78275881-5fa6-4cc6-873d-278adcc625ea",
                "tags": []
            },
            "outputs": [
                {
                    "output_type": "display_data",
                    "data": {
                        "text/html": "Commands completed successfully."
                    },
                    "metadata": {}
                },
                {
                    "output_type": "display_data",
                    "data": {
                        "text/html": "Commands completed successfully."
                    },
                    "metadata": {}
                },
                {
                    "output_type": "display_data",
                    "data": {
                        "text/html": "Total execution time: 00:00:00.064"
                    },
                    "metadata": {}
                }
            ],
            "execution_count": 205
        },
        {
            "cell_type": "markdown",
            "source": [
                "Tworzenie tabel"
            ],
            "metadata": {
                "azdata_cell_guid": "7d85e662-3dbf-487b-b42a-8fc8f9330d95"
            }
        },
        {
            "cell_type": "code",
            "source": [
                "-- Stworzenie tabel\r\n",
                "CREATE TABLE TypStudiow(\r\n",
                "    ID_TypStudiow SMALLINT IDENTITY PRIMARY KEY,\r\n",
                "    NazwaTypu VARCHAR(20) NOT NULL\r\n",
                ")\r\n",
                "\r\n",
                "CREATE TABLE Studia(\r\n",
                "\tID_Studia INT IDENTITY PRIMARY KEY,\r\n",
                "\tWydzial varchar(max) NOT NULL,\r\n",
                "\tKierunek varchar(max) NOT NULL\r\n",
                ")\r\n",
                "\r\n",
                "\r\n",
                "CREATE TABLE StopienNaukowy(\r\n",
                "\tID_StopienNaukowy INT IDENTITY PRIMARY KEY,\r\n",
                "\tStopien varchar(20) NOT NULL\r\n",
                ")\r\n",
                "\r\n",
                "CREATE TABLE Slowo(\r\n",
                "\tID_Slowo INT IDENTITY PRIMARY KEY,\r\n",
                "\tSlowo varchar(50) NOT NULL\r\n",
                ")\r\n",
                "\r\n",
                "CREATE TABLE MiejsceObrony(\r\n",
                "\tID_MiejsceObrony INT IDENTITY PRIMARY KEY,\r\n",
                "\tBudynek VARCHAR(max) NOT NULL,\r\n",
                "\tAdres VARCHAR(50) NOT NULL,\r\n",
                "\tSala SMALLINT NOT NULL\r\n",
                ")\r\n",
                "\r\n",
                "CREATE TABLE Pracownik(\r\n",
                "\tID_Pracownik INT IDENTITY PRIMARY KEY,\r\n",
                "\tID_StopienNaukowy INT FOREIGN KEY REFERENCES StopienNaukowy(ID_StopienNaukowy),\r\n",
                "\tImie varchar(100) NOT NULL,\r\n",
                "\tNazwisko varchar(100) NOT NULL,\r\n",
                "\tTelefon INT,\r\n",
                "\tEmail varchar(100)\r\n",
                ")\r\n",
                "\r\n",
                "CREATE TABLE Student(\r\n",
                "\tID_Student BIGINT PRIMARY KEY CHECK(ID_Student <10000000000),\r\n",
                "\tImie varchar(100) NOT NULL,\r\n",
                "\tNazwisko varchar(100) NOT NULL,\r\n",
                "\tTelefon INT,\r\n",
                "\tEmail varchar(50)\r\n",
                ")\r\n",
                "\r\n",
                "CREATE TABLE StudiowanyKierunek(\r\n",
                "\tID_Student BIGINT FOREIGN KEY REFERENCES Student(ID_Student),\r\n",
                "\tID_Studia INT FOREIGN KEY REFERENCES Studia(ID_Studia),\r\n",
                "\tPRIMARY KEY(ID_Student,ID_Studia)\r\n",
                ")\r\n",
                "\r\n",
                "CREATE TABLE PracaDyplomowa(\r\n",
                "\tID_Praca INT IDENTITY PRIMARY KEY,\r\n",
                "\tTematPracy varchar(max) NOT NULL,\r\n",
                "\tID_TypStudiow SMALLINT NOT NULL ,\r\n",
                "\tID_Promotor INT FOREIGN KEY REFERENCES Pracownik(ID_Pracownik),\r\n",
                "\tOcenaPromotora DEC(2,1) CHECK(OcenaPromotora = 2 OR OcenaPromotora = 2.5 OR OcenaPromotora = 3 OR OcenaPromotora = 3.5 OR OcenaPromotora = 4 OR OcenaPromotora = 4.5 OR OcenaPromotora = 5),\r\n",
                "\tDataZlozenia DATETIME,\r\n",
                "\tFOREIGN KEY (ID_TypStudiow) REFERENCES TypStudiow(ID_TypStudiow)\r\n",
                ")\r\n",
                "\r\n",
                "CREATE TABLE Autor(\r\n",
                "\tID_Praca INt FOREIGN KEY REFERENCES PracaDyplomowa(ID_Praca),\r\n",
                "\tID_Student BIGINT FOREIGN KEY REFERENCES Student(ID_Student)\r\n",
                "\tPRIMARY KEY(ID_Praca,ID_Student)\r\n",
                ")\r\n",
                "\r\n",
                "CREATE TABLE Obrona(\r\n",
                "\tID_Obrona INT IDENTITY PRIMARY KEY,\r\n",
                "\tID_Przewodniczacy INT FOREIGN KEY REFERENCES Pracownik(ID_Pracownik) NOT NULL,\r\n",
                "\tID_Praca INT NOT NULL,\r\n",
                "\tOcenaKoncowa DEC(2,1) CHECK(OcenaKoncowa = 2 OR OcenaKoncowa = 2.5 OR OcenaKoncowa = 3 OR OcenaKoncowa = 3.5 OR OcenaKoncowa = 4 OR OcenaKoncowa = 4.5 OR OcenaKoncowa = 5),\r\n",
                "\tDataObrony DATETIME,\r\n",
                "\tID_MiejsceObrony INT FOREIGN KEY REFERENCES MiejsceObrony(ID_MiejsceObrony) \r\n",
                ")\r\n",
                "\r\n",
                "CREATE TABLE SlowaKluczowe(\r\n",
                "\tID_Slowo INT FOREIGN KEY REFERENCES Slowo(ID_Slowo),\r\n",
                "\tID_Praca INT FOREIGN KEY REFERENCES PracaDyplomowa(ID_Praca),\r\n",
                "\tPRIMARY KEY(ID_Slowo,ID_Praca)\r\n",
                ")\r\n",
                "\r\n",
                "\r\n",
                "CREATE TABLE Recenzja(\r\n",
                "\tID_Praca INT FOREIGN KEY REFERENCES PracaDyplomowa(ID_Praca),\r\n",
                "\tID_Recenzent INT FOREIGN KEY REFERENCES Pracownik(ID_Pracownik),\r\n",
                "\tOcena DEC(2,1) CHECK(Ocena = 2 OR Ocena = 2.5 OR Ocena = 3 OR Ocena = 3.5 OR Ocena = 4 OR Ocena = 4.5 OR Ocena = 5),\r\n",
                "\tDataOceny DATETIME,\r\n",
                "\tKomentarz varchar(max)\r\n",
                "\tPRIMARY KEY(ID_Praca,ID_Recenzent)\r\n",
                ")"
            ],
            "metadata": {
                "azdata_cell_guid": "8db324d3-4f3d-4472-a869-2bda52cd39d4"
            },
            "outputs": [
                {
                    "output_type": "display_data",
                    "data": {
                        "text/html": "Commands completed successfully."
                    },
                    "metadata": {}
                },
                {
                    "output_type": "display_data",
                    "data": {
                        "text/html": "Total execution time: 00:00:00.131"
                    },
                    "metadata": {}
                }
            ],
            "execution_count": 206
        },
        {
            "cell_type": "code",
            "source": [
                "--FUNKCJA LICZACA ILU JEST AUTOROW PRACY DYPLOMOWEJ AKTUALNIE\r\n",
                "CREATE FUNCTION IloscAutorowPracy(@PRACA INT)\r\n",
                "RETURNS INT\r\n",
                "BEGIN\r\n",
                "\tDECLARE @return INT;\r\n",
                "\r\n",
                "\tSELECT @return = COUNT(*)\r\n",
                "\tFROM Autor\r\n",
                "\tWHERE ID_Praca = @PRACA\r\n",
                "\r\n",
                "\tRETURN @return\r\n",
                "END;"
            ],
            "metadata": {
                "azdata_cell_guid": "93ac21da-5760-439b-a8aa-767500227ee0"
            },
            "outputs": [
                {
                    "output_type": "display_data",
                    "data": {
                        "text/html": "Commands completed successfully."
                    },
                    "metadata": {}
                },
                {
                    "output_type": "display_data",
                    "data": {
                        "text/html": "Total execution time: 00:00:00.033"
                    },
                    "metadata": {}
                }
            ],
            "execution_count": 207
        },
        {
            "cell_type": "code",
            "source": [
                "ALTER TABLE Autor ADD CHECK(dbo.IloscAutorowPracy(ID_Praca)<=3)"
            ],
            "metadata": {
                "azdata_cell_guid": "2dbc311d-d47e-46e9-b56e-ac97b6e46f6c"
            },
            "outputs": [
                {
                    "output_type": "display_data",
                    "data": {
                        "text/html": "Commands completed successfully."
                    },
                    "metadata": {}
                },
                {
                    "output_type": "display_data",
                    "data": {
                        "text/html": "Total execution time: 00:00:00.031"
                    },
                    "metadata": {}
                }
            ],
            "execution_count": 208
        },
        {
            "cell_type": "code",
            "source": [
                "--CZy moze byc promotorem\r\n",
                "CREATE FUNCTION CzyMozeBycPromotorem(@idpracownika INT)\r\n",
                "RETURNS BIT\r\n",
                "BEGIN\r\n",
                "    DECLARE @stiopien INT;\r\n",
                "    SET @stiopien = NULL;\r\n",
                "    DECLARE @return BIT;\r\n",
                "    \r\n",
                "    SELECT @stiopien = ID_StopienNaukowy \r\n",
                "    FROM Pracownik \r\n",
                "    WHERE ID_Pracownik = @idpracownika;\r\n",
                "   \r\n",
                "    IF(@stiopien IS NOT NULL)\r\n",
                "        BEGIN\r\n",
                "        SET @return =  CAST (1 AS BIT)\r\n",
                "        END\r\n",
                "    ELSE\r\n",
                "        BEGIN\r\n",
                "        SET @return = CAST(0 AS BIT)\r\n",
                "        END\r\n",
                "    RETURN @return\r\n",
                "END;"
            ],
            "metadata": {
                "azdata_cell_guid": "fada5318-1a47-4379-8106-76f3b495e6ba"
            },
            "outputs": [
                {
                    "output_type": "display_data",
                    "data": {
                        "text/html": "Commands completed successfully."
                    },
                    "metadata": {}
                },
                {
                    "output_type": "display_data",
                    "data": {
                        "text/html": "Total execution time: 00:00:00.034"
                    },
                    "metadata": {}
                }
            ],
            "execution_count": 209
        },
        {
            "cell_type": "code",
            "source": [
                "ALTER TABLE PracaDyplomowa ADD CHECK(dbo.CzyMozeBycPromotorem(ID_Promotor)=CAST(1 AS BIT))"
            ],
            "metadata": {
                "azdata_cell_guid": "df0b26c8-b1f1-4575-ab09-47bceceec4d3"
            },
            "outputs": [
                {
                    "output_type": "display_data",
                    "data": {
                        "text/html": "Commands completed successfully."
                    },
                    "metadata": {}
                },
                {
                    "output_type": "display_data",
                    "data": {
                        "text/html": "Total execution time: 00:00:00.036"
                    },
                    "metadata": {}
                }
            ],
            "execution_count": 210
        },
        {
            "cell_type": "markdown",
            "source": [
                "# Uzupełnianie Tabel"
            ],
            "metadata": {
                "azdata_cell_guid": "f0f6a970-3118-4dd7-b7c3-b0e29cdcde15"
            }
        },
        {
            "cell_type": "code",
            "source": [
                "-- TYP STUDIOW\r\n",
                "INSERT INTO TypStudiow(NazwaTypu) VALUES ('licencjackie');\r\n",
                "INSERT INTO TypStudiow(NazwaTypu) VALUES ('inzynierskie');\r\n",
                "INSERT INTO TypStudiow(NazwaTypu) VALUES ('magisterskie');\r\n",
                "\r\n",
                "--INSERT STUDIA\r\n",
                "INSERT INTO Studia(Wydzial,Kierunek) VALUES ('Mechatroniki','Automatyka, Robotyka i Informatyka Przemysłowa')\r\n",
                "INSERT INTO Studia(Wydzial,Kierunek) VALUES ('Mechatroniki','Mechatronika')\r\n",
                "INSERT INTO Studia(Wydzial,Kierunek) VALUES ('Elektryczny','Iformatyka stosowana')\r\n",
                "\r\n",
                "--INSERT STOPNIE NAUKOWE\r\n",
                "INSERT INTO StopienNaukowy(Stopien) VALUES ('Doktor')\r\n",
                "INSERT INTO StopienNaukowy(Stopien) VALUES ('Profesor')\r\n",
                "\r\n",
                "------------------------------------------------------------------------------------------------------------------------------\r\n",
                "INSERT INTO Slowo(Slowo) VALUES ('Sztuczna inteligancja')\r\n",
                "INSERT INTO Slowo(Slowo) VALUES ('Kwiat')\r\n",
                "INSERT INTO Slowo(Slowo) VALUES ('Kot')\r\n",
                "\r\n",
                "INSERT INTO MiejsceObrony(Budynek,Adres,Sala) VALUES ('Wydział Matematyki i Nauk Informacyjnych','Kwiatowa 1',1)\r\n",
                "\r\n",
                "INSERT INTO Pracownik(Imie,Nazwisko,ID_StopienNaukowy,Telefon,Email) VALUES ('Olga', 'Olszewska',2,123456789,'mail@gmail.com')\r\n",
                "INSERT INTO Pracownik(Imie,Nazwisko,ID_StopienNaukowy,Telefon,Email) VALUES ('Anna', 'Anielska',1,123456789,'mail@gmail.com')\r\n",
                "\r\n",
                "INSERT INTO Student(ID_Student,Imie,Nazwisko,Telefon,Email) VALUES (297225,'Marcin','Bobiński',123456789,'marcin@gmail.com')\r\n",
                "INSERT INTO Student(ID_Student,Imie,Nazwisko,Telefon,Email) VALUES (297226,'Dominik','Polak',123456789,'dominik@gmail.com')\r\n",
                "INSERT INTO Student(ID_Student,Imie,Nazwisko,Telefon,Email) VALUES (297227,'Marcel','Grapiec',123456789,'marcel@gmail.com')\r\n",
                "INSERT INTO Student(ID_Student,Imie,Nazwisko,Telefon,Email) VALUES (297228,'Magda','Kwiatkowska',123456789,'madzia@gmail.com')\r\n",
                "\r\n",
                "\r\n",
                "INSERT INTO StudiowanyKierunek(ID_Student,ID_Studia) VALUES (297225,1)\r\n",
                "INSERT INTO StudiowanyKierunek(ID_Student,ID_Studia) VALUES (297226,1)\r\n",
                "INSERT INTO StudiowanyKierunek(ID_Student,ID_Studia) VALUES (297227,1)\r\n",
                "INSERT INTO StudiowanyKierunek(ID_Student,ID_Studia) VALUES (297228,1)\r\n",
                "\r\n",
                "INSERT INTO PracaDyplomowa(TematPracy,ID_TypStudiow,ID_Promotor,OcenaPromotora,DataZlozenia) VALUES ('Grzyby',2,1,3,GETDATE())\r\n",
                "INSERT INTO PracaDyplomowa(TematPracy,ID_TypStudiow,ID_Promotor,OcenaPromotora,DataZlozenia) VALUES ('Mchy',1,1,3,NULL)\r\n",
                "INSERT INTO PracaDyplomowa(TematPracy,ID_TypStudiow,ID_Promotor,OcenaPromotora,DataZlozenia) VALUES ('Kora',2,2,3,GETDATE())\r\n",
                "INSERT INTO PracaDyplomowa(TematPracy,ID_TypStudiow,ID_Promotor,OcenaPromotora,DataZlozenia) VALUES ('Kotki',1,2,3,GETDATE())\r\n",
                "\r\n",
                "INSERT INTO Autor(ID_Praca ,ID_Student) VALUES (1,297225)\r\n",
                "INSERT INTO Autor(ID_Praca ,ID_Student) VALUES (1,297226)\r\n",
                "INSERT INTO Autor(ID_Praca ,ID_Student) VALUES (1,297227)\r\n",
                "INSERT INTO Autor(ID_Praca ,ID_Student) VALUES (2,297228)\r\n",
                "INSERT INTO Autor(ID_Praca ,ID_Student) VALUES (3,297225)\r\n",
                "INSERT INTO Autor(ID_Praca ,ID_Student) VALUES (4,297226)\r\n",
                "\r\n",
                "INSERT INTO Obrona(ID_Przewodniczacy,ID_Praca,OcenaKoncowa,DataObrony,ID_MiejsceObrony) VALUES (1,1,3,NULL,1)\r\n",
                "INSERT INTO Obrona(ID_Przewodniczacy,ID_Praca,OcenaKoncowa,DataObrony,ID_MiejsceObrony) VALUES (1,2,4,'2021-01-10 21:18:20.110',1)\r\n",
                "INSERT INTO Obrona(ID_Przewodniczacy,ID_Praca,OcenaKoncowa,DataObrony,ID_MiejsceObrony) VALUES (2,3,5,'2020-01-10 21:18:20.110',1)\r\n",
                "INSERT INTO Obrona(ID_Przewodniczacy,ID_Praca,OcenaKoncowa,DataObrony,ID_MiejsceObrony) VALUES (2,4,4.5,'2020-01-10 21:18:20.110',1)\r\n",
                "\r\n",
                "INSERT INTO SlowaKluczowe(ID_Slowo,ID_Praca) VALUES (1,1)\r\n",
                "INSERT INTO SlowaKluczowe(ID_Slowo,ID_Praca) VALUES (1,2)\r\n",
                "INSERT INTO SlowaKluczowe(ID_Slowo,ID_Praca) VALUES (2,3)\r\n",
                "INSERT INTO SlowaKluczowe(ID_Slowo,ID_Praca) VALUES (3,2)\r\n",
                "INSERT INTO SlowaKluczowe(ID_Slowo,ID_Praca) VALUES (1,3)\r\n",
                "INSERT INTO SlowaKluczowe(ID_Slowo,ID_Praca) VALUES (1,4)\r\n",
                "\r\n",
                "INSERT INTO Recenzja(ID_Praca,ID_Recenzent,Ocena,DataOceny,Komentarz) VALUES (1,1,4,NULL,'Cały komentarz na temat pracy')"
            ],
            "metadata": {
                "azdata_cell_guid": "490ef398-6e23-4eb4-9ec7-1a5a9df1fa1a"
            },
            "outputs": [
                {
                    "output_type": "display_data",
                    "data": {
                        "text/html": "(1 row affected)"
                    },
                    "metadata": {}
                },
                {
                    "output_type": "display_data",
                    "data": {
                        "text/html": "(1 row affected)"
                    },
                    "metadata": {}
                },
                {
                    "output_type": "display_data",
                    "data": {
                        "text/html": "(1 row affected)"
                    },
                    "metadata": {}
                },
                {
                    "output_type": "display_data",
                    "data": {
                        "text/html": "(1 row affected)"
                    },
                    "metadata": {}
                },
                {
                    "output_type": "display_data",
                    "data": {
                        "text/html": "(1 row affected)"
                    },
                    "metadata": {}
                },
                {
                    "output_type": "display_data",
                    "data": {
                        "text/html": "(1 row affected)"
                    },
                    "metadata": {}
                },
                {
                    "output_type": "display_data",
                    "data": {
                        "text/html": "(1 row affected)"
                    },
                    "metadata": {}
                },
                {
                    "output_type": "display_data",
                    "data": {
                        "text/html": "(1 row affected)"
                    },
                    "metadata": {}
                },
                {
                    "output_type": "display_data",
                    "data": {
                        "text/html": "(1 row affected)"
                    },
                    "metadata": {}
                },
                {
                    "output_type": "display_data",
                    "data": {
                        "text/html": "(1 row affected)"
                    },
                    "metadata": {}
                },
                {
                    "output_type": "display_data",
                    "data": {
                        "text/html": "(1 row affected)"
                    },
                    "metadata": {}
                },
                {
                    "output_type": "display_data",
                    "data": {
                        "text/html": "(1 row affected)"
                    },
                    "metadata": {}
                },
                {
                    "output_type": "display_data",
                    "data": {
                        "text/html": "(1 row affected)"
                    },
                    "metadata": {}
                },
                {
                    "output_type": "display_data",
                    "data": {
                        "text/html": "(1 row affected)"
                    },
                    "metadata": {}
                },
                {
                    "output_type": "display_data",
                    "data": {
                        "text/html": "(1 row affected)"
                    },
                    "metadata": {}
                },
                {
                    "output_type": "display_data",
                    "data": {
                        "text/html": "(1 row affected)"
                    },
                    "metadata": {}
                },
                {
                    "output_type": "display_data",
                    "data": {
                        "text/html": "(1 row affected)"
                    },
                    "metadata": {}
                },
                {
                    "output_type": "display_data",
                    "data": {
                        "text/html": "(1 row affected)"
                    },
                    "metadata": {}
                },
                {
                    "output_type": "display_data",
                    "data": {
                        "text/html": "(1 row affected)"
                    },
                    "metadata": {}
                },
                {
                    "output_type": "display_data",
                    "data": {
                        "text/html": "(1 row affected)"
                    },
                    "metadata": {}
                },
                {
                    "output_type": "display_data",
                    "data": {
                        "text/html": "(1 row affected)"
                    },
                    "metadata": {}
                },
                {
                    "output_type": "display_data",
                    "data": {
                        "text/html": "(1 row affected)"
                    },
                    "metadata": {}
                },
                {
                    "output_type": "display_data",
                    "data": {
                        "text/html": "(1 row affected)"
                    },
                    "metadata": {}
                },
                {
                    "output_type": "display_data",
                    "data": {
                        "text/html": "(1 row affected)"
                    },
                    "metadata": {}
                },
                {
                    "output_type": "display_data",
                    "data": {
                        "text/html": "(1 row affected)"
                    },
                    "metadata": {}
                },
                {
                    "output_type": "display_data",
                    "data": {
                        "text/html": "(1 row affected)"
                    },
                    "metadata": {}
                },
                {
                    "output_type": "display_data",
                    "data": {
                        "text/html": "(1 row affected)"
                    },
                    "metadata": {}
                },
                {
                    "output_type": "display_data",
                    "data": {
                        "text/html": "(1 row affected)"
                    },
                    "metadata": {}
                },
                {
                    "output_type": "display_data",
                    "data": {
                        "text/html": "(1 row affected)"
                    },
                    "metadata": {}
                },
                {
                    "output_type": "display_data",
                    "data": {
                        "text/html": "(1 row affected)"
                    },
                    "metadata": {}
                },
                {
                    "output_type": "display_data",
                    "data": {
                        "text/html": "(1 row affected)"
                    },
                    "metadata": {}
                },
                {
                    "output_type": "display_data",
                    "data": {
                        "text/html": "(1 row affected)"
                    },
                    "metadata": {}
                },
                {
                    "output_type": "display_data",
                    "data": {
                        "text/html": "(1 row affected)"
                    },
                    "metadata": {}
                },
                {
                    "output_type": "display_data",
                    "data": {
                        "text/html": "(1 row affected)"
                    },
                    "metadata": {}
                },
                {
                    "output_type": "display_data",
                    "data": {
                        "text/html": "(1 row affected)"
                    },
                    "metadata": {}
                },
                {
                    "output_type": "display_data",
                    "data": {
                        "text/html": "(1 row affected)"
                    },
                    "metadata": {}
                },
                {
                    "output_type": "display_data",
                    "data": {
                        "text/html": "(1 row affected)"
                    },
                    "metadata": {}
                },
                {
                    "output_type": "display_data",
                    "data": {
                        "text/html": "(1 row affected)"
                    },
                    "metadata": {}
                },
                {
                    "output_type": "display_data",
                    "data": {
                        "text/html": "(1 row affected)"
                    },
                    "metadata": {}
                },
                {
                    "output_type": "display_data",
                    "data": {
                        "text/html": "(1 row affected)"
                    },
                    "metadata": {}
                },
                {
                    "output_type": "display_data",
                    "data": {
                        "text/html": "(1 row affected)"
                    },
                    "metadata": {}
                },
                {
                    "output_type": "display_data",
                    "data": {
                        "text/html": "(1 row affected)"
                    },
                    "metadata": {}
                },
                {
                    "output_type": "display_data",
                    "data": {
                        "text/html": "(1 row affected)"
                    },
                    "metadata": {}
                },
                {
                    "output_type": "display_data",
                    "data": {
                        "text/html": "Total execution time: 00:00:00.228"
                    },
                    "metadata": {}
                }
            ],
            "execution_count": 211
        },
        {
            "cell_type": "code",
            "source": [
                "SELECT * FROM TypStudiow\r\n",
                "SELECT * FROM Studia\r\n",
                "SELECT * FROM StopienNaukowy\r\n",
                "SELECT * FROM Slowo\r\n",
                "SELECT * FROM MiejsceObrony\r\n",
                "SELECT * FROM Pracownik\r\n",
                "SELECT * FROM Student\r\n",
                "SELECT * FROM StudiowanyKierunek\r\n",
                "SELECT * FROM PracaDyplomowa\r\n",
                "SELECT * FROM Autor\r\n",
                "SELECT * FROM Obrona\r\n",
                "SELECT * FROM SlowaKluczowe\r\n",
                "SELECT * FROM Recenzja"
            ],
            "metadata": {
                "azdata_cell_guid": "685d837e-0bd3-4f0d-8058-644ab4d5e349"
            },
            "outputs": [
                {
                    "output_type": "display_data",
                    "data": {
                        "text/html": "(3 rows affected)"
                    },
                    "metadata": {}
                },
                {
                    "output_type": "display_data",
                    "data": {
                        "text/html": "(3 rows affected)"
                    },
                    "metadata": {}
                },
                {
                    "output_type": "display_data",
                    "data": {
                        "text/html": "(2 rows affected)"
                    },
                    "metadata": {}
                },
                {
                    "output_type": "display_data",
                    "data": {
                        "text/html": "(3 rows affected)"
                    },
                    "metadata": {}
                },
                {
                    "output_type": "display_data",
                    "data": {
                        "text/html": "(1 row affected)"
                    },
                    "metadata": {}
                },
                {
                    "output_type": "display_data",
                    "data": {
                        "text/html": "(2 rows affected)"
                    },
                    "metadata": {}
                },
                {
                    "output_type": "display_data",
                    "data": {
                        "text/html": "(4 rows affected)"
                    },
                    "metadata": {}
                },
                {
                    "output_type": "display_data",
                    "data": {
                        "text/html": "(4 rows affected)"
                    },
                    "metadata": {}
                },
                {
                    "output_type": "display_data",
                    "data": {
                        "text/html": "(4 rows affected)"
                    },
                    "metadata": {}
                },
                {
                    "output_type": "display_data",
                    "data": {
                        "text/html": "(6 rows affected)"
                    },
                    "metadata": {}
                },
                {
                    "output_type": "display_data",
                    "data": {
                        "text/html": "(4 rows affected)"
                    },
                    "metadata": {}
                },
                {
                    "output_type": "display_data",
                    "data": {
                        "text/html": "(6 rows affected)"
                    },
                    "metadata": {}
                },
                {
                    "output_type": "display_data",
                    "data": {
                        "text/html": "(1 row affected)"
                    },
                    "metadata": {}
                },
                {
                    "output_type": "display_data",
                    "data": {
                        "text/html": "Total execution time: 00:00:00.083"
                    },
                    "metadata": {}
                },
                {
                    "output_type": "execute_result",
                    "execution_count": 212,
                    "data": {
                        "application/vnd.dataresource+json": {
                            "schema": {
                                "fields": [
                                    {
                                        "name": "ID_TypStudiow"
                                    },
                                    {
                                        "name": "NazwaTypu"
                                    }
                                ]
                            },
                            "data": [
                                {
                                    "0": "1",
                                    "1": "licencjackie"
                                },
                                {
                                    "0": "2",
                                    "1": "inzynierskie"
                                },
                                {
                                    "0": "3",
                                    "1": "magisterskie"
                                }
                            ]
                        },
                        "text/html": "<table><tr><th>ID_TypStudiow</th><th>NazwaTypu</th></tr><tr><td>1</td><td>licencjackie</td></tr><tr><td>2</td><td>inzynierskie</td></tr><tr><td>3</td><td>magisterskie</td></tr></table>"
                    },
                    "metadata": {
                        "resultSet": {
                            "id": 0,
                            "batchId": 0,
                            "rowCount": 3,
                            "complete": true,
                            "columnInfo": [
                                {
                                    "isBytes": false,
                                    "isChars": false,
                                    "isSqlVariant": false,
                                    "isUdt": false,
                                    "isXml": false,
                                    "isJson": false,
                                    "sqlDbType": 16,
                                    "isHierarchyId": false,
                                    "isSqlXmlType": false,
                                    "isUnknownType": false,
                                    "isUpdatable": false,
                                    "allowDBNull": false,
                                    "baseCatalogName": null,
                                    "baseColumnName": null,
                                    "baseSchemaName": null,
                                    "baseServerName": null,
                                    "baseTableName": null,
                                    "columnName": "ID_TypStudiow",
                                    "columnOrdinal": 0,
                                    "columnSize": 2,
                                    "isAliased": null,
                                    "isAutoIncrement": true,
                                    "isExpression": null,
                                    "isHidden": null,
                                    "isIdentity": true,
                                    "isKey": null,
                                    "isLong": false,
                                    "isReadOnly": true,
                                    "isUnique": false,
                                    "numericPrecision": 5,
                                    "numericScale": 255,
                                    "udtAssemblyQualifiedName": null,
                                    "dataType": "System.Int16, System.Private.CoreLib, Version=4.0.0.0, Culture=neutral, PublicKeyToken=7cec85d7bea7798e",
                                    "dataTypeName": "smallint"
                                },
                                {
                                    "isBytes": false,
                                    "isChars": true,
                                    "isSqlVariant": false,
                                    "isUdt": false,
                                    "isXml": false,
                                    "isJson": false,
                                    "sqlDbType": 22,
                                    "isHierarchyId": false,
                                    "isSqlXmlType": false,
                                    "isUnknownType": false,
                                    "isUpdatable": true,
                                    "allowDBNull": false,
                                    "baseCatalogName": null,
                                    "baseColumnName": null,
                                    "baseSchemaName": null,
                                    "baseServerName": null,
                                    "baseTableName": null,
                                    "columnName": "NazwaTypu",
                                    "columnOrdinal": 1,
                                    "columnSize": 20,
                                    "isAliased": null,
                                    "isAutoIncrement": false,
                                    "isExpression": null,
                                    "isHidden": null,
                                    "isIdentity": false,
                                    "isKey": null,
                                    "isLong": false,
                                    "isReadOnly": false,
                                    "isUnique": false,
                                    "numericPrecision": 255,
                                    "numericScale": 255,
                                    "udtAssemblyQualifiedName": null,
                                    "dataType": "System.String, System.Private.CoreLib, Version=4.0.0.0, Culture=neutral, PublicKeyToken=7cec85d7bea7798e",
                                    "dataTypeName": "varchar"
                                }
                            ],
                            "specialAction": {
                                "none": true,
                                "expectYukonXMLShowPlan": false
                            }
                        }
                    }
                },
                {
                    "output_type": "execute_result",
                    "execution_count": 212,
                    "data": {
                        "application/vnd.dataresource+json": {
                            "schema": {
                                "fields": [
                                    {
                                        "name": "ID_Studia"
                                    },
                                    {
                                        "name": "Wydzial"
                                    },
                                    {
                                        "name": "Kierunek"
                                    }
                                ]
                            },
                            "data": [
                                {
                                    "0": "1",
                                    "1": "Mechatroniki",
                                    "2": "Automatyka, Robotyka i Informatyka Przemyslowa"
                                },
                                {
                                    "0": "2",
                                    "1": "Mechatroniki",
                                    "2": "Mechatronika"
                                },
                                {
                                    "0": "3",
                                    "1": "Elektryczny",
                                    "2": "Iformatyka stosowana"
                                }
                            ]
                        },
                        "text/html": "<table><tr><th>ID_Studia</th><th>Wydzial</th><th>Kierunek</th></tr><tr><td>1</td><td>Mechatroniki</td><td>Automatyka, Robotyka i Informatyka Przemyslowa</td></tr><tr><td>2</td><td>Mechatroniki</td><td>Mechatronika</td></tr><tr><td>3</td><td>Elektryczny</td><td>Iformatyka stosowana</td></tr></table>"
                    },
                    "metadata": {
                        "resultSet": {
                            "id": 1,
                            "batchId": 0,
                            "rowCount": 3,
                            "complete": true,
                            "columnInfo": [
                                {
                                    "isBytes": false,
                                    "isChars": false,
                                    "isSqlVariant": false,
                                    "isUdt": false,
                                    "isXml": false,
                                    "isJson": false,
                                    "sqlDbType": 8,
                                    "isHierarchyId": false,
                                    "isSqlXmlType": false,
                                    "isUnknownType": false,
                                    "isUpdatable": false,
                                    "allowDBNull": false,
                                    "baseCatalogName": null,
                                    "baseColumnName": null,
                                    "baseSchemaName": null,
                                    "baseServerName": null,
                                    "baseTableName": null,
                                    "columnName": "ID_Studia",
                                    "columnOrdinal": 0,
                                    "columnSize": 4,
                                    "isAliased": null,
                                    "isAutoIncrement": true,
                                    "isExpression": null,
                                    "isHidden": null,
                                    "isIdentity": true,
                                    "isKey": null,
                                    "isLong": false,
                                    "isReadOnly": true,
                                    "isUnique": false,
                                    "numericPrecision": 10,
                                    "numericScale": 255,
                                    "udtAssemblyQualifiedName": null,
                                    "dataType": "System.Int32, System.Private.CoreLib, Version=4.0.0.0, Culture=neutral, PublicKeyToken=7cec85d7bea7798e",
                                    "dataTypeName": "int"
                                },
                                {
                                    "isBytes": false,
                                    "isChars": true,
                                    "isSqlVariant": false,
                                    "isUdt": false,
                                    "isXml": false,
                                    "isJson": false,
                                    "sqlDbType": 22,
                                    "isHierarchyId": false,
                                    "isSqlXmlType": false,
                                    "isUnknownType": false,
                                    "isUpdatable": true,
                                    "allowDBNull": false,
                                    "baseCatalogName": null,
                                    "baseColumnName": null,
                                    "baseSchemaName": null,
                                    "baseServerName": null,
                                    "baseTableName": null,
                                    "columnName": "Wydzial",
                                    "columnOrdinal": 1,
                                    "columnSize": 2147483647,
                                    "isAliased": null,
                                    "isAutoIncrement": false,
                                    "isExpression": null,
                                    "isHidden": null,
                                    "isIdentity": false,
                                    "isKey": null,
                                    "isLong": true,
                                    "isReadOnly": false,
                                    "isUnique": false,
                                    "numericPrecision": 255,
                                    "numericScale": 255,
                                    "udtAssemblyQualifiedName": null,
                                    "dataType": "System.String, System.Private.CoreLib, Version=4.0.0.0, Culture=neutral, PublicKeyToken=7cec85d7bea7798e",
                                    "dataTypeName": "varchar"
                                },
                                {
                                    "isBytes": false,
                                    "isChars": true,
                                    "isSqlVariant": false,
                                    "isUdt": false,
                                    "isXml": false,
                                    "isJson": false,
                                    "sqlDbType": 22,
                                    "isHierarchyId": false,
                                    "isSqlXmlType": false,
                                    "isUnknownType": false,
                                    "isUpdatable": true,
                                    "allowDBNull": false,
                                    "baseCatalogName": null,
                                    "baseColumnName": null,
                                    "baseSchemaName": null,
                                    "baseServerName": null,
                                    "baseTableName": null,
                                    "columnName": "Kierunek",
                                    "columnOrdinal": 2,
                                    "columnSize": 2147483647,
                                    "isAliased": null,
                                    "isAutoIncrement": false,
                                    "isExpression": null,
                                    "isHidden": null,
                                    "isIdentity": false,
                                    "isKey": null,
                                    "isLong": true,
                                    "isReadOnly": false,
                                    "isUnique": false,
                                    "numericPrecision": 255,
                                    "numericScale": 255,
                                    "udtAssemblyQualifiedName": null,
                                    "dataType": "System.String, System.Private.CoreLib, Version=4.0.0.0, Culture=neutral, PublicKeyToken=7cec85d7bea7798e",
                                    "dataTypeName": "varchar"
                                }
                            ],
                            "specialAction": {
                                "none": true,
                                "expectYukonXMLShowPlan": false
                            }
                        }
                    }
                },
                {
                    "output_type": "execute_result",
                    "execution_count": 212,
                    "data": {
                        "application/vnd.dataresource+json": {
                            "schema": {
                                "fields": [
                                    {
                                        "name": "ID_StopienNaukowy"
                                    },
                                    {
                                        "name": "Stopien"
                                    }
                                ]
                            },
                            "data": [
                                {
                                    "0": "1",
                                    "1": "Doktor"
                                },
                                {
                                    "0": "2",
                                    "1": "Profesor"
                                }
                            ]
                        },
                        "text/html": "<table><tr><th>ID_StopienNaukowy</th><th>Stopien</th></tr><tr><td>1</td><td>Doktor</td></tr><tr><td>2</td><td>Profesor</td></tr></table>"
                    },
                    "metadata": {
                        "resultSet": {
                            "id": 2,
                            "batchId": 0,
                            "rowCount": 2,
                            "complete": true,
                            "columnInfo": [
                                {
                                    "isBytes": false,
                                    "isChars": false,
                                    "isSqlVariant": false,
                                    "isUdt": false,
                                    "isXml": false,
                                    "isJson": false,
                                    "sqlDbType": 8,
                                    "isHierarchyId": false,
                                    "isSqlXmlType": false,
                                    "isUnknownType": false,
                                    "isUpdatable": false,
                                    "allowDBNull": false,
                                    "baseCatalogName": null,
                                    "baseColumnName": null,
                                    "baseSchemaName": null,
                                    "baseServerName": null,
                                    "baseTableName": null,
                                    "columnName": "ID_StopienNaukowy",
                                    "columnOrdinal": 0,
                                    "columnSize": 4,
                                    "isAliased": null,
                                    "isAutoIncrement": true,
                                    "isExpression": null,
                                    "isHidden": null,
                                    "isIdentity": true,
                                    "isKey": null,
                                    "isLong": false,
                                    "isReadOnly": true,
                                    "isUnique": false,
                                    "numericPrecision": 10,
                                    "numericScale": 255,
                                    "udtAssemblyQualifiedName": null,
                                    "dataType": "System.Int32, System.Private.CoreLib, Version=4.0.0.0, Culture=neutral, PublicKeyToken=7cec85d7bea7798e",
                                    "dataTypeName": "int"
                                },
                                {
                                    "isBytes": false,
                                    "isChars": true,
                                    "isSqlVariant": false,
                                    "isUdt": false,
                                    "isXml": false,
                                    "isJson": false,
                                    "sqlDbType": 22,
                                    "isHierarchyId": false,
                                    "isSqlXmlType": false,
                                    "isUnknownType": false,
                                    "isUpdatable": true,
                                    "allowDBNull": false,
                                    "baseCatalogName": null,
                                    "baseColumnName": null,
                                    "baseSchemaName": null,
                                    "baseServerName": null,
                                    "baseTableName": null,
                                    "columnName": "Stopien",
                                    "columnOrdinal": 1,
                                    "columnSize": 20,
                                    "isAliased": null,
                                    "isAutoIncrement": false,
                                    "isExpression": null,
                                    "isHidden": null,
                                    "isIdentity": false,
                                    "isKey": null,
                                    "isLong": false,
                                    "isReadOnly": false,
                                    "isUnique": false,
                                    "numericPrecision": 255,
                                    "numericScale": 255,
                                    "udtAssemblyQualifiedName": null,
                                    "dataType": "System.String, System.Private.CoreLib, Version=4.0.0.0, Culture=neutral, PublicKeyToken=7cec85d7bea7798e",
                                    "dataTypeName": "varchar"
                                }
                            ],
                            "specialAction": {
                                "none": true,
                                "expectYukonXMLShowPlan": false
                            }
                        }
                    }
                },
                {
                    "output_type": "execute_result",
                    "execution_count": 212,
                    "data": {
                        "application/vnd.dataresource+json": {
                            "schema": {
                                "fields": [
                                    {
                                        "name": "ID_Slowo"
                                    },
                                    {
                                        "name": "Slowo"
                                    }
                                ]
                            },
                            "data": [
                                {
                                    "0": "1",
                                    "1": "Sztuczna inteligancja"
                                },
                                {
                                    "0": "2",
                                    "1": "Kwiat"
                                },
                                {
                                    "0": "3",
                                    "1": "Kot"
                                }
                            ]
                        },
                        "text/html": "<table><tr><th>ID_Slowo</th><th>Slowo</th></tr><tr><td>1</td><td>Sztuczna inteligancja</td></tr><tr><td>2</td><td>Kwiat</td></tr><tr><td>3</td><td>Kot</td></tr></table>"
                    },
                    "metadata": {
                        "resultSet": {
                            "id": 3,
                            "batchId": 0,
                            "rowCount": 3,
                            "complete": true,
                            "columnInfo": [
                                {
                                    "isBytes": false,
                                    "isChars": false,
                                    "isSqlVariant": false,
                                    "isUdt": false,
                                    "isXml": false,
                                    "isJson": false,
                                    "sqlDbType": 8,
                                    "isHierarchyId": false,
                                    "isSqlXmlType": false,
                                    "isUnknownType": false,
                                    "isUpdatable": false,
                                    "allowDBNull": false,
                                    "baseCatalogName": null,
                                    "baseColumnName": null,
                                    "baseSchemaName": null,
                                    "baseServerName": null,
                                    "baseTableName": null,
                                    "columnName": "ID_Slowo",
                                    "columnOrdinal": 0,
                                    "columnSize": 4,
                                    "isAliased": null,
                                    "isAutoIncrement": true,
                                    "isExpression": null,
                                    "isHidden": null,
                                    "isIdentity": true,
                                    "isKey": null,
                                    "isLong": false,
                                    "isReadOnly": true,
                                    "isUnique": false,
                                    "numericPrecision": 10,
                                    "numericScale": 255,
                                    "udtAssemblyQualifiedName": null,
                                    "dataType": "System.Int32, System.Private.CoreLib, Version=4.0.0.0, Culture=neutral, PublicKeyToken=7cec85d7bea7798e",
                                    "dataTypeName": "int"
                                },
                                {
                                    "isBytes": false,
                                    "isChars": true,
                                    "isSqlVariant": false,
                                    "isUdt": false,
                                    "isXml": false,
                                    "isJson": false,
                                    "sqlDbType": 22,
                                    "isHierarchyId": false,
                                    "isSqlXmlType": false,
                                    "isUnknownType": false,
                                    "isUpdatable": true,
                                    "allowDBNull": false,
                                    "baseCatalogName": null,
                                    "baseColumnName": null,
                                    "baseSchemaName": null,
                                    "baseServerName": null,
                                    "baseTableName": null,
                                    "columnName": "Slowo",
                                    "columnOrdinal": 1,
                                    "columnSize": 50,
                                    "isAliased": null,
                                    "isAutoIncrement": false,
                                    "isExpression": null,
                                    "isHidden": null,
                                    "isIdentity": false,
                                    "isKey": null,
                                    "isLong": false,
                                    "isReadOnly": false,
                                    "isUnique": false,
                                    "numericPrecision": 255,
                                    "numericScale": 255,
                                    "udtAssemblyQualifiedName": null,
                                    "dataType": "System.String, System.Private.CoreLib, Version=4.0.0.0, Culture=neutral, PublicKeyToken=7cec85d7bea7798e",
                                    "dataTypeName": "varchar"
                                }
                            ],
                            "specialAction": {
                                "none": true,
                                "expectYukonXMLShowPlan": false
                            }
                        }
                    }
                },
                {
                    "output_type": "execute_result",
                    "execution_count": 212,
                    "data": {
                        "application/vnd.dataresource+json": {
                            "schema": {
                                "fields": [
                                    {
                                        "name": "ID_MiejsceObrony"
                                    },
                                    {
                                        "name": "Budynek"
                                    },
                                    {
                                        "name": "Adres"
                                    },
                                    {
                                        "name": "Sala"
                                    }
                                ]
                            },
                            "data": [
                                {
                                    "0": "1",
                                    "1": "Wydzial Matematyki i Nauk Informacyjnych",
                                    "2": "Kwiatowa 1",
                                    "3": "1"
                                }
                            ]
                        },
                        "text/html": "<table><tr><th>ID_MiejsceObrony</th><th>Budynek</th><th>Adres</th><th>Sala</th></tr><tr><td>1</td><td>Wydzial Matematyki i Nauk Informacyjnych</td><td>Kwiatowa 1</td><td>1</td></tr></table>"
                    },
                    "metadata": {
                        "resultSet": {
                            "id": 4,
                            "batchId": 0,
                            "rowCount": 1,
                            "complete": true,
                            "columnInfo": [
                                {
                                    "isBytes": false,
                                    "isChars": false,
                                    "isSqlVariant": false,
                                    "isUdt": false,
                                    "isXml": false,
                                    "isJson": false,
                                    "sqlDbType": 8,
                                    "isHierarchyId": false,
                                    "isSqlXmlType": false,
                                    "isUnknownType": false,
                                    "isUpdatable": false,
                                    "allowDBNull": false,
                                    "baseCatalogName": null,
                                    "baseColumnName": null,
                                    "baseSchemaName": null,
                                    "baseServerName": null,
                                    "baseTableName": null,
                                    "columnName": "ID_MiejsceObrony",
                                    "columnOrdinal": 0,
                                    "columnSize": 4,
                                    "isAliased": null,
                                    "isAutoIncrement": true,
                                    "isExpression": null,
                                    "isHidden": null,
                                    "isIdentity": true,
                                    "isKey": null,
                                    "isLong": false,
                                    "isReadOnly": true,
                                    "isUnique": false,
                                    "numericPrecision": 10,
                                    "numericScale": 255,
                                    "udtAssemblyQualifiedName": null,
                                    "dataType": "System.Int32, System.Private.CoreLib, Version=4.0.0.0, Culture=neutral, PublicKeyToken=7cec85d7bea7798e",
                                    "dataTypeName": "int"
                                },
                                {
                                    "isBytes": false,
                                    "isChars": true,
                                    "isSqlVariant": false,
                                    "isUdt": false,
                                    "isXml": false,
                                    "isJson": false,
                                    "sqlDbType": 22,
                                    "isHierarchyId": false,
                                    "isSqlXmlType": false,
                                    "isUnknownType": false,
                                    "isUpdatable": true,
                                    "allowDBNull": false,
                                    "baseCatalogName": null,
                                    "baseColumnName": null,
                                    "baseSchemaName": null,
                                    "baseServerName": null,
                                    "baseTableName": null,
                                    "columnName": "Budynek",
                                    "columnOrdinal": 1,
                                    "columnSize": 2147483647,
                                    "isAliased": null,
                                    "isAutoIncrement": false,
                                    "isExpression": null,
                                    "isHidden": null,
                                    "isIdentity": false,
                                    "isKey": null,
                                    "isLong": true,
                                    "isReadOnly": false,
                                    "isUnique": false,
                                    "numericPrecision": 255,
                                    "numericScale": 255,
                                    "udtAssemblyQualifiedName": null,
                                    "dataType": "System.String, System.Private.CoreLib, Version=4.0.0.0, Culture=neutral, PublicKeyToken=7cec85d7bea7798e",
                                    "dataTypeName": "varchar"
                                },
                                {
                                    "isBytes": false,
                                    "isChars": true,
                                    "isSqlVariant": false,
                                    "isUdt": false,
                                    "isXml": false,
                                    "isJson": false,
                                    "sqlDbType": 22,
                                    "isHierarchyId": false,
                                    "isSqlXmlType": false,
                                    "isUnknownType": false,
                                    "isUpdatable": true,
                                    "allowDBNull": false,
                                    "baseCatalogName": null,
                                    "baseColumnName": null,
                                    "baseSchemaName": null,
                                    "baseServerName": null,
                                    "baseTableName": null,
                                    "columnName": "Adres",
                                    "columnOrdinal": 2,
                                    "columnSize": 50,
                                    "isAliased": null,
                                    "isAutoIncrement": false,
                                    "isExpression": null,
                                    "isHidden": null,
                                    "isIdentity": false,
                                    "isKey": null,
                                    "isLong": false,
                                    "isReadOnly": false,
                                    "isUnique": false,
                                    "numericPrecision": 255,
                                    "numericScale": 255,
                                    "udtAssemblyQualifiedName": null,
                                    "dataType": "System.String, System.Private.CoreLib, Version=4.0.0.0, Culture=neutral, PublicKeyToken=7cec85d7bea7798e",
                                    "dataTypeName": "varchar"
                                },
                                {
                                    "isBytes": false,
                                    "isChars": false,
                                    "isSqlVariant": false,
                                    "isUdt": false,
                                    "isXml": false,
                                    "isJson": false,
                                    "sqlDbType": 16,
                                    "isHierarchyId": false,
                                    "isSqlXmlType": false,
                                    "isUnknownType": false,
                                    "isUpdatable": true,
                                    "allowDBNull": false,
                                    "baseCatalogName": null,
                                    "baseColumnName": null,
                                    "baseSchemaName": null,
                                    "baseServerName": null,
                                    "baseTableName": null,
                                    "columnName": "Sala",
                                    "columnOrdinal": 3,
                                    "columnSize": 2,
                                    "isAliased": null,
                                    "isAutoIncrement": false,
                                    "isExpression": null,
                                    "isHidden": null,
                                    "isIdentity": false,
                                    "isKey": null,
                                    "isLong": false,
                                    "isReadOnly": false,
                                    "isUnique": false,
                                    "numericPrecision": 5,
                                    "numericScale": 255,
                                    "udtAssemblyQualifiedName": null,
                                    "dataType": "System.Int16, System.Private.CoreLib, Version=4.0.0.0, Culture=neutral, PublicKeyToken=7cec85d7bea7798e",
                                    "dataTypeName": "smallint"
                                }
                            ],
                            "specialAction": {
                                "none": true,
                                "expectYukonXMLShowPlan": false
                            }
                        }
                    }
                },
                {
                    "output_type": "execute_result",
                    "execution_count": 212,
                    "data": {
                        "application/vnd.dataresource+json": {
                            "schema": {
                                "fields": [
                                    {
                                        "name": "ID_Pracownik"
                                    },
                                    {
                                        "name": "ID_StopienNaukowy"
                                    },
                                    {
                                        "name": "Imie"
                                    },
                                    {
                                        "name": "Nazwisko"
                                    },
                                    {
                                        "name": "Telefon"
                                    },
                                    {
                                        "name": "Email"
                                    }
                                ]
                            },
                            "data": [
                                {
                                    "0": "1",
                                    "1": "2",
                                    "2": "Olga",
                                    "3": "Olszewska",
                                    "4": "123456789",
                                    "5": "mail@gmail.com"
                                },
                                {
                                    "0": "2",
                                    "1": "1",
                                    "2": "Anna",
                                    "3": "Anielska",
                                    "4": "123456789",
                                    "5": "mail@gmail.com"
                                }
                            ]
                        },
                        "text/html": "<table><tr><th>ID_Pracownik</th><th>ID_StopienNaukowy</th><th>Imie</th><th>Nazwisko</th><th>Telefon</th><th>Email</th></tr><tr><td>1</td><td>2</td><td>Olga</td><td>Olszewska</td><td>123456789</td><td>mail@gmail.com</td></tr><tr><td>2</td><td>1</td><td>Anna</td><td>Anielska</td><td>123456789</td><td>mail@gmail.com</td></tr></table>"
                    },
                    "metadata": {
                        "resultSet": {
                            "id": 5,
                            "batchId": 0,
                            "rowCount": 2,
                            "complete": true,
                            "columnInfo": [
                                {
                                    "isBytes": false,
                                    "isChars": false,
                                    "isSqlVariant": false,
                                    "isUdt": false,
                                    "isXml": false,
                                    "isJson": false,
                                    "sqlDbType": 8,
                                    "isHierarchyId": false,
                                    "isSqlXmlType": false,
                                    "isUnknownType": false,
                                    "isUpdatable": false,
                                    "allowDBNull": false,
                                    "baseCatalogName": null,
                                    "baseColumnName": null,
                                    "baseSchemaName": null,
                                    "baseServerName": null,
                                    "baseTableName": null,
                                    "columnName": "ID_Pracownik",
                                    "columnOrdinal": 0,
                                    "columnSize": 4,
                                    "isAliased": null,
                                    "isAutoIncrement": true,
                                    "isExpression": null,
                                    "isHidden": null,
                                    "isIdentity": true,
                                    "isKey": null,
                                    "isLong": false,
                                    "isReadOnly": true,
                                    "isUnique": false,
                                    "numericPrecision": 10,
                                    "numericScale": 255,
                                    "udtAssemblyQualifiedName": null,
                                    "dataType": "System.Int32, System.Private.CoreLib, Version=4.0.0.0, Culture=neutral, PublicKeyToken=7cec85d7bea7798e",
                                    "dataTypeName": "int"
                                },
                                {
                                    "isBytes": false,
                                    "isChars": false,
                                    "isSqlVariant": false,
                                    "isUdt": false,
                                    "isXml": false,
                                    "isJson": false,
                                    "sqlDbType": 8,
                                    "isHierarchyId": false,
                                    "isSqlXmlType": false,
                                    "isUnknownType": false,
                                    "isUpdatable": true,
                                    "allowDBNull": true,
                                    "baseCatalogName": null,
                                    "baseColumnName": null,
                                    "baseSchemaName": null,
                                    "baseServerName": null,
                                    "baseTableName": null,
                                    "columnName": "ID_StopienNaukowy",
                                    "columnOrdinal": 1,
                                    "columnSize": 4,
                                    "isAliased": null,
                                    "isAutoIncrement": false,
                                    "isExpression": null,
                                    "isHidden": null,
                                    "isIdentity": false,
                                    "isKey": null,
                                    "isLong": false,
                                    "isReadOnly": false,
                                    "isUnique": false,
                                    "numericPrecision": 10,
                                    "numericScale": 255,
                                    "udtAssemblyQualifiedName": null,
                                    "dataType": "System.Int32, System.Private.CoreLib, Version=4.0.0.0, Culture=neutral, PublicKeyToken=7cec85d7bea7798e",
                                    "dataTypeName": "int"
                                },
                                {
                                    "isBytes": false,
                                    "isChars": true,
                                    "isSqlVariant": false,
                                    "isUdt": false,
                                    "isXml": false,
                                    "isJson": false,
                                    "sqlDbType": 22,
                                    "isHierarchyId": false,
                                    "isSqlXmlType": false,
                                    "isUnknownType": false,
                                    "isUpdatable": true,
                                    "allowDBNull": false,
                                    "baseCatalogName": null,
                                    "baseColumnName": null,
                                    "baseSchemaName": null,
                                    "baseServerName": null,
                                    "baseTableName": null,
                                    "columnName": "Imie",
                                    "columnOrdinal": 2,
                                    "columnSize": 100,
                                    "isAliased": null,
                                    "isAutoIncrement": false,
                                    "isExpression": null,
                                    "isHidden": null,
                                    "isIdentity": false,
                                    "isKey": null,
                                    "isLong": false,
                                    "isReadOnly": false,
                                    "isUnique": false,
                                    "numericPrecision": 255,
                                    "numericScale": 255,
                                    "udtAssemblyQualifiedName": null,
                                    "dataType": "System.String, System.Private.CoreLib, Version=4.0.0.0, Culture=neutral, PublicKeyToken=7cec85d7bea7798e",
                                    "dataTypeName": "varchar"
                                },
                                {
                                    "isBytes": false,
                                    "isChars": true,
                                    "isSqlVariant": false,
                                    "isUdt": false,
                                    "isXml": false,
                                    "isJson": false,
                                    "sqlDbType": 22,
                                    "isHierarchyId": false,
                                    "isSqlXmlType": false,
                                    "isUnknownType": false,
                                    "isUpdatable": true,
                                    "allowDBNull": false,
                                    "baseCatalogName": null,
                                    "baseColumnName": null,
                                    "baseSchemaName": null,
                                    "baseServerName": null,
                                    "baseTableName": null,
                                    "columnName": "Nazwisko",
                                    "columnOrdinal": 3,
                                    "columnSize": 100,
                                    "isAliased": null,
                                    "isAutoIncrement": false,
                                    "isExpression": null,
                                    "isHidden": null,
                                    "isIdentity": false,
                                    "isKey": null,
                                    "isLong": false,
                                    "isReadOnly": false,
                                    "isUnique": false,
                                    "numericPrecision": 255,
                                    "numericScale": 255,
                                    "udtAssemblyQualifiedName": null,
                                    "dataType": "System.String, System.Private.CoreLib, Version=4.0.0.0, Culture=neutral, PublicKeyToken=7cec85d7bea7798e",
                                    "dataTypeName": "varchar"
                                },
                                {
                                    "isBytes": false,
                                    "isChars": false,
                                    "isSqlVariant": false,
                                    "isUdt": false,
                                    "isXml": false,
                                    "isJson": false,
                                    "sqlDbType": 8,
                                    "isHierarchyId": false,
                                    "isSqlXmlType": false,
                                    "isUnknownType": false,
                                    "isUpdatable": true,
                                    "allowDBNull": true,
                                    "baseCatalogName": null,
                                    "baseColumnName": null,
                                    "baseSchemaName": null,
                                    "baseServerName": null,
                                    "baseTableName": null,
                                    "columnName": "Telefon",
                                    "columnOrdinal": 4,
                                    "columnSize": 4,
                                    "isAliased": null,
                                    "isAutoIncrement": false,
                                    "isExpression": null,
                                    "isHidden": null,
                                    "isIdentity": false,
                                    "isKey": null,
                                    "isLong": false,
                                    "isReadOnly": false,
                                    "isUnique": false,
                                    "numericPrecision": 10,
                                    "numericScale": 255,
                                    "udtAssemblyQualifiedName": null,
                                    "dataType": "System.Int32, System.Private.CoreLib, Version=4.0.0.0, Culture=neutral, PublicKeyToken=7cec85d7bea7798e",
                                    "dataTypeName": "int"
                                },
                                {
                                    "isBytes": false,
                                    "isChars": true,
                                    "isSqlVariant": false,
                                    "isUdt": false,
                                    "isXml": false,
                                    "isJson": false,
                                    "sqlDbType": 22,
                                    "isHierarchyId": false,
                                    "isSqlXmlType": false,
                                    "isUnknownType": false,
                                    "isUpdatable": true,
                                    "allowDBNull": true,
                                    "baseCatalogName": null,
                                    "baseColumnName": null,
                                    "baseSchemaName": null,
                                    "baseServerName": null,
                                    "baseTableName": null,
                                    "columnName": "Email",
                                    "columnOrdinal": 5,
                                    "columnSize": 100,
                                    "isAliased": null,
                                    "isAutoIncrement": false,
                                    "isExpression": null,
                                    "isHidden": null,
                                    "isIdentity": false,
                                    "isKey": null,
                                    "isLong": false,
                                    "isReadOnly": false,
                                    "isUnique": false,
                                    "numericPrecision": 255,
                                    "numericScale": 255,
                                    "udtAssemblyQualifiedName": null,
                                    "dataType": "System.String, System.Private.CoreLib, Version=4.0.0.0, Culture=neutral, PublicKeyToken=7cec85d7bea7798e",
                                    "dataTypeName": "varchar"
                                }
                            ],
                            "specialAction": {
                                "none": true,
                                "expectYukonXMLShowPlan": false
                            }
                        }
                    }
                },
                {
                    "output_type": "execute_result",
                    "execution_count": 212,
                    "data": {
                        "application/vnd.dataresource+json": {
                            "schema": {
                                "fields": [
                                    {
                                        "name": "ID_Student"
                                    },
                                    {
                                        "name": "Imie"
                                    },
                                    {
                                        "name": "Nazwisko"
                                    },
                                    {
                                        "name": "Telefon"
                                    },
                                    {
                                        "name": "Email"
                                    }
                                ]
                            },
                            "data": [
                                {
                                    "0": "297225",
                                    "1": "Marcin",
                                    "2": "Bobinski",
                                    "3": "123456789",
                                    "4": "marcin@gmail.com"
                                },
                                {
                                    "0": "297226",
                                    "1": "Dominik",
                                    "2": "Grabiec",
                                    "3": "123456789",
                                    "4": "dominik@gmail.com"
                                },
                                {
                                    "0": "297227",
                                    "1": "Marcel",
                                    "2": "Polak",
                                    "3": "123456789",
                                    "4": "marcel@gmail.com"
                                },
                                {
                                    "0": "297228",
                                    "1": "Magda",
                                    "2": "Nguyen Hong",
                                    "3": "123456789",
                                    "4": "madzia@gmail.com"
                                }
                            ]
                        },
                        "text/html": "<table><tr><th>ID_Student</th><th>Imie</th><th>Nazwisko</th><th>Telefon</th><th>Email</th></tr><tr><td>297225</td><td>Marcin</td><td>Bobinski</td><td>123456789</td><td>marcin@gmail.com</td></tr><tr><td>297226</td><td>Dominik</td><td>Grabiec</td><td>123456789</td><td>dominik@gmail.com</td></tr><tr><td>297227</td><td>Marcel</td><td>Polak</td><td>123456789</td><td>marcel@gmail.com</td></tr><tr><td>297228</td><td>Magda</td><td>Nguyen Hong</td><td>123456789</td><td>madzia@gmail.com</td></tr></table>"
                    },
                    "metadata": {
                        "resultSet": {
                            "id": 6,
                            "batchId": 0,
                            "rowCount": 4,
                            "complete": true,
                            "columnInfo": [
                                {
                                    "isBytes": false,
                                    "isChars": false,
                                    "isSqlVariant": false,
                                    "isUdt": false,
                                    "isXml": false,
                                    "isJson": false,
                                    "sqlDbType": 0,
                                    "isHierarchyId": false,
                                    "isSqlXmlType": false,
                                    "isUnknownType": false,
                                    "isUpdatable": true,
                                    "allowDBNull": false,
                                    "baseCatalogName": null,
                                    "baseColumnName": null,
                                    "baseSchemaName": null,
                                    "baseServerName": null,
                                    "baseTableName": null,
                                    "columnName": "ID_Student",
                                    "columnOrdinal": 0,
                                    "columnSize": 8,
                                    "isAliased": null,
                                    "isAutoIncrement": false,
                                    "isExpression": null,
                                    "isHidden": null,
                                    "isIdentity": false,
                                    "isKey": null,
                                    "isLong": false,
                                    "isReadOnly": false,
                                    "isUnique": false,
                                    "numericPrecision": 19,
                                    "numericScale": 255,
                                    "udtAssemblyQualifiedName": null,
                                    "dataType": "System.Int64, System.Private.CoreLib, Version=4.0.0.0, Culture=neutral, PublicKeyToken=7cec85d7bea7798e",
                                    "dataTypeName": "bigint"
                                },
                                {
                                    "isBytes": false,
                                    "isChars": true,
                                    "isSqlVariant": false,
                                    "isUdt": false,
                                    "isXml": false,
                                    "isJson": false,
                                    "sqlDbType": 22,
                                    "isHierarchyId": false,
                                    "isSqlXmlType": false,
                                    "isUnknownType": false,
                                    "isUpdatable": true,
                                    "allowDBNull": false,
                                    "baseCatalogName": null,
                                    "baseColumnName": null,
                                    "baseSchemaName": null,
                                    "baseServerName": null,
                                    "baseTableName": null,
                                    "columnName": "Imie",
                                    "columnOrdinal": 1,
                                    "columnSize": 100,
                                    "isAliased": null,
                                    "isAutoIncrement": false,
                                    "isExpression": null,
                                    "isHidden": null,
                                    "isIdentity": false,
                                    "isKey": null,
                                    "isLong": false,
                                    "isReadOnly": false,
                                    "isUnique": false,
                                    "numericPrecision": 255,
                                    "numericScale": 255,
                                    "udtAssemblyQualifiedName": null,
                                    "dataType": "System.String, System.Private.CoreLib, Version=4.0.0.0, Culture=neutral, PublicKeyToken=7cec85d7bea7798e",
                                    "dataTypeName": "varchar"
                                },
                                {
                                    "isBytes": false,
                                    "isChars": true,
                                    "isSqlVariant": false,
                                    "isUdt": false,
                                    "isXml": false,
                                    "isJson": false,
                                    "sqlDbType": 22,
                                    "isHierarchyId": false,
                                    "isSqlXmlType": false,
                                    "isUnknownType": false,
                                    "isUpdatable": true,
                                    "allowDBNull": false,
                                    "baseCatalogName": null,
                                    "baseColumnName": null,
                                    "baseSchemaName": null,
                                    "baseServerName": null,
                                    "baseTableName": null,
                                    "columnName": "Nazwisko",
                                    "columnOrdinal": 2,
                                    "columnSize": 100,
                                    "isAliased": null,
                                    "isAutoIncrement": false,
                                    "isExpression": null,
                                    "isHidden": null,
                                    "isIdentity": false,
                                    "isKey": null,
                                    "isLong": false,
                                    "isReadOnly": false,
                                    "isUnique": false,
                                    "numericPrecision": 255,
                                    "numericScale": 255,
                                    "udtAssemblyQualifiedName": null,
                                    "dataType": "System.String, System.Private.CoreLib, Version=4.0.0.0, Culture=neutral, PublicKeyToken=7cec85d7bea7798e",
                                    "dataTypeName": "varchar"
                                },
                                {
                                    "isBytes": false,
                                    "isChars": false,
                                    "isSqlVariant": false,
                                    "isUdt": false,
                                    "isXml": false,
                                    "isJson": false,
                                    "sqlDbType": 8,
                                    "isHierarchyId": false,
                                    "isSqlXmlType": false,
                                    "isUnknownType": false,
                                    "isUpdatable": true,
                                    "allowDBNull": true,
                                    "baseCatalogName": null,
                                    "baseColumnName": null,
                                    "baseSchemaName": null,
                                    "baseServerName": null,
                                    "baseTableName": null,
                                    "columnName": "Telefon",
                                    "columnOrdinal": 3,
                                    "columnSize": 4,
                                    "isAliased": null,
                                    "isAutoIncrement": false,
                                    "isExpression": null,
                                    "isHidden": null,
                                    "isIdentity": false,
                                    "isKey": null,
                                    "isLong": false,
                                    "isReadOnly": false,
                                    "isUnique": false,
                                    "numericPrecision": 10,
                                    "numericScale": 255,
                                    "udtAssemblyQualifiedName": null,
                                    "dataType": "System.Int32, System.Private.CoreLib, Version=4.0.0.0, Culture=neutral, PublicKeyToken=7cec85d7bea7798e",
                                    "dataTypeName": "int"
                                },
                                {
                                    "isBytes": false,
                                    "isChars": true,
                                    "isSqlVariant": false,
                                    "isUdt": false,
                                    "isXml": false,
                                    "isJson": false,
                                    "sqlDbType": 22,
                                    "isHierarchyId": false,
                                    "isSqlXmlType": false,
                                    "isUnknownType": false,
                                    "isUpdatable": true,
                                    "allowDBNull": true,
                                    "baseCatalogName": null,
                                    "baseColumnName": null,
                                    "baseSchemaName": null,
                                    "baseServerName": null,
                                    "baseTableName": null,
                                    "columnName": "Email",
                                    "columnOrdinal": 4,
                                    "columnSize": 50,
                                    "isAliased": null,
                                    "isAutoIncrement": false,
                                    "isExpression": null,
                                    "isHidden": null,
                                    "isIdentity": false,
                                    "isKey": null,
                                    "isLong": false,
                                    "isReadOnly": false,
                                    "isUnique": false,
                                    "numericPrecision": 255,
                                    "numericScale": 255,
                                    "udtAssemblyQualifiedName": null,
                                    "dataType": "System.String, System.Private.CoreLib, Version=4.0.0.0, Culture=neutral, PublicKeyToken=7cec85d7bea7798e",
                                    "dataTypeName": "varchar"
                                }
                            ],
                            "specialAction": {
                                "none": true,
                                "expectYukonXMLShowPlan": false
                            }
                        }
                    }
                },
                {
                    "output_type": "execute_result",
                    "execution_count": 212,
                    "data": {
                        "application/vnd.dataresource+json": {
                            "schema": {
                                "fields": [
                                    {
                                        "name": "ID_Student"
                                    },
                                    {
                                        "name": "ID_Studia"
                                    }
                                ]
                            },
                            "data": [
                                {
                                    "0": "297225",
                                    "1": "1"
                                },
                                {
                                    "0": "297226",
                                    "1": "1"
                                },
                                {
                                    "0": "297227",
                                    "1": "1"
                                },
                                {
                                    "0": "297228",
                                    "1": "1"
                                }
                            ]
                        },
                        "text/html": "<table><tr><th>ID_Student</th><th>ID_Studia</th></tr><tr><td>297225</td><td>1</td></tr><tr><td>297226</td><td>1</td></tr><tr><td>297227</td><td>1</td></tr><tr><td>297228</td><td>1</td></tr></table>"
                    },
                    "metadata": {
                        "resultSet": {
                            "id": 7,
                            "batchId": 0,
                            "rowCount": 4,
                            "complete": true,
                            "columnInfo": [
                                {
                                    "isBytes": false,
                                    "isChars": false,
                                    "isSqlVariant": false,
                                    "isUdt": false,
                                    "isXml": false,
                                    "isJson": false,
                                    "sqlDbType": 0,
                                    "isHierarchyId": false,
                                    "isSqlXmlType": false,
                                    "isUnknownType": false,
                                    "isUpdatable": true,
                                    "allowDBNull": false,
                                    "baseCatalogName": null,
                                    "baseColumnName": null,
                                    "baseSchemaName": null,
                                    "baseServerName": null,
                                    "baseTableName": null,
                                    "columnName": "ID_Student",
                                    "columnOrdinal": 0,
                                    "columnSize": 8,
                                    "isAliased": null,
                                    "isAutoIncrement": false,
                                    "isExpression": null,
                                    "isHidden": null,
                                    "isIdentity": false,
                                    "isKey": null,
                                    "isLong": false,
                                    "isReadOnly": false,
                                    "isUnique": false,
                                    "numericPrecision": 19,
                                    "numericScale": 255,
                                    "udtAssemblyQualifiedName": null,
                                    "dataType": "System.Int64, System.Private.CoreLib, Version=4.0.0.0, Culture=neutral, PublicKeyToken=7cec85d7bea7798e",
                                    "dataTypeName": "bigint"
                                },
                                {
                                    "isBytes": false,
                                    "isChars": false,
                                    "isSqlVariant": false,
                                    "isUdt": false,
                                    "isXml": false,
                                    "isJson": false,
                                    "sqlDbType": 8,
                                    "isHierarchyId": false,
                                    "isSqlXmlType": false,
                                    "isUnknownType": false,
                                    "isUpdatable": true,
                                    "allowDBNull": false,
                                    "baseCatalogName": null,
                                    "baseColumnName": null,
                                    "baseSchemaName": null,
                                    "baseServerName": null,
                                    "baseTableName": null,
                                    "columnName": "ID_Studia",
                                    "columnOrdinal": 1,
                                    "columnSize": 4,
                                    "isAliased": null,
                                    "isAutoIncrement": false,
                                    "isExpression": null,
                                    "isHidden": null,
                                    "isIdentity": false,
                                    "isKey": null,
                                    "isLong": false,
                                    "isReadOnly": false,
                                    "isUnique": false,
                                    "numericPrecision": 10,
                                    "numericScale": 255,
                                    "udtAssemblyQualifiedName": null,
                                    "dataType": "System.Int32, System.Private.CoreLib, Version=4.0.0.0, Culture=neutral, PublicKeyToken=7cec85d7bea7798e",
                                    "dataTypeName": "int"
                                }
                            ],
                            "specialAction": {
                                "none": true,
                                "expectYukonXMLShowPlan": false
                            }
                        }
                    }
                },
                {
                    "output_type": "execute_result",
                    "execution_count": 212,
                    "data": {
                        "application/vnd.dataresource+json": {
                            "schema": {
                                "fields": [
                                    {
                                        "name": "ID_Praca"
                                    },
                                    {
                                        "name": "TematPracy"
                                    },
                                    {
                                        "name": "ID_TypStudiow"
                                    },
                                    {
                                        "name": "ID_Promotor"
                                    },
                                    {
                                        "name": "OcenaPromotora"
                                    },
                                    {
                                        "name": "DataZlozenia"
                                    }
                                ]
                            },
                            "data": [
                                {
                                    "0": "1",
                                    "1": "Grzyby",
                                    "2": "2",
                                    "3": "1",
                                    "4": "3,0",
                                    "5": "2021-01-10 23:06:04.960"
                                },
                                {
                                    "0": "2",
                                    "1": "Mchy",
                                    "2": "1",
                                    "3": "1",
                                    "4": "3,0",
                                    "5": "NULL"
                                },
                                {
                                    "0": "3",
                                    "1": "Kora",
                                    "2": "2",
                                    "3": "2",
                                    "4": "3,0",
                                    "5": "2021-01-10 23:06:04.977"
                                },
                                {
                                    "0": "4",
                                    "1": "Kotki",
                                    "2": "1",
                                    "3": "2",
                                    "4": "3,0",
                                    "5": "2021-01-10 23:06:04.980"
                                }
                            ]
                        },
                        "text/html": "<table><tr><th>ID_Praca</th><th>TematPracy</th><th>ID_TypStudiow</th><th>ID_Promotor</th><th>OcenaPromotora</th><th>DataZlozenia</th></tr><tr><td>1</td><td>Grzyby</td><td>2</td><td>1</td><td>3,0</td><td>2021-01-10 23:06:04.960</td></tr><tr><td>2</td><td>Mchy</td><td>1</td><td>1</td><td>3,0</td><td>NULL</td></tr><tr><td>3</td><td>Kora</td><td>2</td><td>2</td><td>3,0</td><td>2021-01-10 23:06:04.977</td></tr><tr><td>4</td><td>Kotki</td><td>1</td><td>2</td><td>3,0</td><td>2021-01-10 23:06:04.980</td></tr></table>"
                    },
                    "metadata": {
                        "resultSet": {
                            "id": 8,
                            "batchId": 0,
                            "rowCount": 4,
                            "complete": true,
                            "columnInfo": [
                                {
                                    "isBytes": false,
                                    "isChars": false,
                                    "isSqlVariant": false,
                                    "isUdt": false,
                                    "isXml": false,
                                    "isJson": false,
                                    "sqlDbType": 8,
                                    "isHierarchyId": false,
                                    "isSqlXmlType": false,
                                    "isUnknownType": false,
                                    "isUpdatable": false,
                                    "allowDBNull": false,
                                    "baseCatalogName": null,
                                    "baseColumnName": null,
                                    "baseSchemaName": null,
                                    "baseServerName": null,
                                    "baseTableName": null,
                                    "columnName": "ID_Praca",
                                    "columnOrdinal": 0,
                                    "columnSize": 4,
                                    "isAliased": null,
                                    "isAutoIncrement": true,
                                    "isExpression": null,
                                    "isHidden": null,
                                    "isIdentity": true,
                                    "isKey": null,
                                    "isLong": false,
                                    "isReadOnly": true,
                                    "isUnique": false,
                                    "numericPrecision": 10,
                                    "numericScale": 255,
                                    "udtAssemblyQualifiedName": null,
                                    "dataType": "System.Int32, System.Private.CoreLib, Version=4.0.0.0, Culture=neutral, PublicKeyToken=7cec85d7bea7798e",
                                    "dataTypeName": "int"
                                },
                                {
                                    "isBytes": false,
                                    "isChars": true,
                                    "isSqlVariant": false,
                                    "isUdt": false,
                                    "isXml": false,
                                    "isJson": false,
                                    "sqlDbType": 22,
                                    "isHierarchyId": false,
                                    "isSqlXmlType": false,
                                    "isUnknownType": false,
                                    "isUpdatable": true,
                                    "allowDBNull": false,
                                    "baseCatalogName": null,
                                    "baseColumnName": null,
                                    "baseSchemaName": null,
                                    "baseServerName": null,
                                    "baseTableName": null,
                                    "columnName": "TematPracy",
                                    "columnOrdinal": 1,
                                    "columnSize": 2147483647,
                                    "isAliased": null,
                                    "isAutoIncrement": false,
                                    "isExpression": null,
                                    "isHidden": null,
                                    "isIdentity": false,
                                    "isKey": null,
                                    "isLong": true,
                                    "isReadOnly": false,
                                    "isUnique": false,
                                    "numericPrecision": 255,
                                    "numericScale": 255,
                                    "udtAssemblyQualifiedName": null,
                                    "dataType": "System.String, System.Private.CoreLib, Version=4.0.0.0, Culture=neutral, PublicKeyToken=7cec85d7bea7798e",
                                    "dataTypeName": "varchar"
                                },
                                {
                                    "isBytes": false,
                                    "isChars": false,
                                    "isSqlVariant": false,
                                    "isUdt": false,
                                    "isXml": false,
                                    "isJson": false,
                                    "sqlDbType": 16,
                                    "isHierarchyId": false,
                                    "isSqlXmlType": false,
                                    "isUnknownType": false,
                                    "isUpdatable": true,
                                    "allowDBNull": false,
                                    "baseCatalogName": null,
                                    "baseColumnName": null,
                                    "baseSchemaName": null,
                                    "baseServerName": null,
                                    "baseTableName": null,
                                    "columnName": "ID_TypStudiow",
                                    "columnOrdinal": 2,
                                    "columnSize": 2,
                                    "isAliased": null,
                                    "isAutoIncrement": false,
                                    "isExpression": null,
                                    "isHidden": null,
                                    "isIdentity": false,
                                    "isKey": null,
                                    "isLong": false,
                                    "isReadOnly": false,
                                    "isUnique": false,
                                    "numericPrecision": 5,
                                    "numericScale": 255,
                                    "udtAssemblyQualifiedName": null,
                                    "dataType": "System.Int16, System.Private.CoreLib, Version=4.0.0.0, Culture=neutral, PublicKeyToken=7cec85d7bea7798e",
                                    "dataTypeName": "smallint"
                                },
                                {
                                    "isBytes": false,
                                    "isChars": false,
                                    "isSqlVariant": false,
                                    "isUdt": false,
                                    "isXml": false,
                                    "isJson": false,
                                    "sqlDbType": 8,
                                    "isHierarchyId": false,
                                    "isSqlXmlType": false,
                                    "isUnknownType": false,
                                    "isUpdatable": true,
                                    "allowDBNull": true,
                                    "baseCatalogName": null,
                                    "baseColumnName": null,
                                    "baseSchemaName": null,
                                    "baseServerName": null,
                                    "baseTableName": null,
                                    "columnName": "ID_Promotor",
                                    "columnOrdinal": 3,
                                    "columnSize": 4,
                                    "isAliased": null,
                                    "isAutoIncrement": false,
                                    "isExpression": null,
                                    "isHidden": null,
                                    "isIdentity": false,
                                    "isKey": null,
                                    "isLong": false,
                                    "isReadOnly": false,
                                    "isUnique": false,
                                    "numericPrecision": 10,
                                    "numericScale": 255,
                                    "udtAssemblyQualifiedName": null,
                                    "dataType": "System.Int32, System.Private.CoreLib, Version=4.0.0.0, Culture=neutral, PublicKeyToken=7cec85d7bea7798e",
                                    "dataTypeName": "int"
                                },
                                {
                                    "isBytes": false,
                                    "isChars": false,
                                    "isSqlVariant": false,
                                    "isUdt": false,
                                    "isXml": false,
                                    "isJson": false,
                                    "sqlDbType": 5,
                                    "isHierarchyId": false,
                                    "isSqlXmlType": false,
                                    "isUnknownType": false,
                                    "isUpdatable": true,
                                    "allowDBNull": true,
                                    "baseCatalogName": null,
                                    "baseColumnName": null,
                                    "baseSchemaName": null,
                                    "baseServerName": null,
                                    "baseTableName": null,
                                    "columnName": "OcenaPromotora",
                                    "columnOrdinal": 4,
                                    "columnSize": 17,
                                    "isAliased": null,
                                    "isAutoIncrement": false,
                                    "isExpression": null,
                                    "isHidden": null,
                                    "isIdentity": false,
                                    "isKey": null,
                                    "isLong": false,
                                    "isReadOnly": false,
                                    "isUnique": false,
                                    "numericPrecision": 2,
                                    "numericScale": 1,
                                    "udtAssemblyQualifiedName": null,
                                    "dataType": "System.Decimal, System.Private.CoreLib, Version=4.0.0.0, Culture=neutral, PublicKeyToken=7cec85d7bea7798e",
                                    "dataTypeName": "decimal"
                                },
                                {
                                    "isBytes": false,
                                    "isChars": false,
                                    "isSqlVariant": false,
                                    "isUdt": false,
                                    "isXml": false,
                                    "isJson": false,
                                    "sqlDbType": 4,
                                    "isHierarchyId": false,
                                    "isSqlXmlType": false,
                                    "isUnknownType": false,
                                    "isUpdatable": true,
                                    "allowDBNull": true,
                                    "baseCatalogName": null,
                                    "baseColumnName": null,
                                    "baseSchemaName": null,
                                    "baseServerName": null,
                                    "baseTableName": null,
                                    "columnName": "DataZlozenia",
                                    "columnOrdinal": 5,
                                    "columnSize": 8,
                                    "isAliased": null,
                                    "isAutoIncrement": false,
                                    "isExpression": null,
                                    "isHidden": null,
                                    "isIdentity": false,
                                    "isKey": null,
                                    "isLong": false,
                                    "isReadOnly": false,
                                    "isUnique": false,
                                    "numericPrecision": 23,
                                    "numericScale": 3,
                                    "udtAssemblyQualifiedName": null,
                                    "dataType": "System.DateTime, System.Private.CoreLib, Version=4.0.0.0, Culture=neutral, PublicKeyToken=7cec85d7bea7798e",
                                    "dataTypeName": "datetime"
                                }
                            ],
                            "specialAction": {
                                "none": true,
                                "expectYukonXMLShowPlan": false
                            }
                        }
                    }
                },
                {
                    "output_type": "execute_result",
                    "execution_count": 212,
                    "data": {
                        "application/vnd.dataresource+json": {
                            "schema": {
                                "fields": [
                                    {
                                        "name": "ID_Praca"
                                    },
                                    {
                                        "name": "ID_Student"
                                    }
                                ]
                            },
                            "data": [
                                {
                                    "0": "1",
                                    "1": "297225"
                                },
                                {
                                    "0": "1",
                                    "1": "297226"
                                },
                                {
                                    "0": "1",
                                    "1": "297227"
                                },
                                {
                                    "0": "2",
                                    "1": "297228"
                                },
                                {
                                    "0": "3",
                                    "1": "297225"
                                },
                                {
                                    "0": "4",
                                    "1": "297226"
                                }
                            ]
                        },
                        "text/html": "<table><tr><th>ID_Praca</th><th>ID_Student</th></tr><tr><td>1</td><td>297225</td></tr><tr><td>1</td><td>297226</td></tr><tr><td>1</td><td>297227</td></tr><tr><td>2</td><td>297228</td></tr><tr><td>3</td><td>297225</td></tr><tr><td>4</td><td>297226</td></tr></table>"
                    },
                    "metadata": {
                        "resultSet": {
                            "id": 9,
                            "batchId": 0,
                            "rowCount": 6,
                            "complete": true,
                            "columnInfo": [
                                {
                                    "isBytes": false,
                                    "isChars": false,
                                    "isSqlVariant": false,
                                    "isUdt": false,
                                    "isXml": false,
                                    "isJson": false,
                                    "sqlDbType": 8,
                                    "isHierarchyId": false,
                                    "isSqlXmlType": false,
                                    "isUnknownType": false,
                                    "isUpdatable": true,
                                    "allowDBNull": false,
                                    "baseCatalogName": null,
                                    "baseColumnName": null,
                                    "baseSchemaName": null,
                                    "baseServerName": null,
                                    "baseTableName": null,
                                    "columnName": "ID_Praca",
                                    "columnOrdinal": 0,
                                    "columnSize": 4,
                                    "isAliased": null,
                                    "isAutoIncrement": false,
                                    "isExpression": null,
                                    "isHidden": null,
                                    "isIdentity": false,
                                    "isKey": null,
                                    "isLong": false,
                                    "isReadOnly": false,
                                    "isUnique": false,
                                    "numericPrecision": 10,
                                    "numericScale": 255,
                                    "udtAssemblyQualifiedName": null,
                                    "dataType": "System.Int32, System.Private.CoreLib, Version=4.0.0.0, Culture=neutral, PublicKeyToken=7cec85d7bea7798e",
                                    "dataTypeName": "int"
                                },
                                {
                                    "isBytes": false,
                                    "isChars": false,
                                    "isSqlVariant": false,
                                    "isUdt": false,
                                    "isXml": false,
                                    "isJson": false,
                                    "sqlDbType": 0,
                                    "isHierarchyId": false,
                                    "isSqlXmlType": false,
                                    "isUnknownType": false,
                                    "isUpdatable": true,
                                    "allowDBNull": false,
                                    "baseCatalogName": null,
                                    "baseColumnName": null,
                                    "baseSchemaName": null,
                                    "baseServerName": null,
                                    "baseTableName": null,
                                    "columnName": "ID_Student",
                                    "columnOrdinal": 1,
                                    "columnSize": 8,
                                    "isAliased": null,
                                    "isAutoIncrement": false,
                                    "isExpression": null,
                                    "isHidden": null,
                                    "isIdentity": false,
                                    "isKey": null,
                                    "isLong": false,
                                    "isReadOnly": false,
                                    "isUnique": false,
                                    "numericPrecision": 19,
                                    "numericScale": 255,
                                    "udtAssemblyQualifiedName": null,
                                    "dataType": "System.Int64, System.Private.CoreLib, Version=4.0.0.0, Culture=neutral, PublicKeyToken=7cec85d7bea7798e",
                                    "dataTypeName": "bigint"
                                }
                            ],
                            "specialAction": {
                                "none": true,
                                "expectYukonXMLShowPlan": false
                            }
                        }
                    }
                },
                {
                    "output_type": "execute_result",
                    "execution_count": 212,
                    "data": {
                        "application/vnd.dataresource+json": {
                            "schema": {
                                "fields": [
                                    {
                                        "name": "ID_Obrona"
                                    },
                                    {
                                        "name": "ID_Przewodniczacy"
                                    },
                                    {
                                        "name": "ID_Praca"
                                    },
                                    {
                                        "name": "OcenaKoncowa"
                                    },
                                    {
                                        "name": "DataObrony"
                                    },
                                    {
                                        "name": "ID_MiejsceObrony"
                                    }
                                ]
                            },
                            "data": [
                                {
                                    "0": "1",
                                    "1": "1",
                                    "2": "1",
                                    "3": "3,0",
                                    "4": "NULL",
                                    "5": "1"
                                },
                                {
                                    "0": "2",
                                    "1": "1",
                                    "2": "2",
                                    "3": "4,0",
                                    "4": "2021-01-10 21:18:20.110",
                                    "5": "1"
                                },
                                {
                                    "0": "3",
                                    "1": "2",
                                    "2": "3",
                                    "3": "5,0",
                                    "4": "2020-01-10 21:18:20.110",
                                    "5": "1"
                                },
                                {
                                    "0": "4",
                                    "1": "2",
                                    "2": "4",
                                    "3": "4,5",
                                    "4": "2020-01-10 21:18:20.110",
                                    "5": "1"
                                }
                            ]
                        },
                        "text/html": "<table><tr><th>ID_Obrona</th><th>ID_Przewodniczacy</th><th>ID_Praca</th><th>OcenaKoncowa</th><th>DataObrony</th><th>ID_MiejsceObrony</th></tr><tr><td>1</td><td>1</td><td>1</td><td>3,0</td><td>NULL</td><td>1</td></tr><tr><td>2</td><td>1</td><td>2</td><td>4,0</td><td>2021-01-10 21:18:20.110</td><td>1</td></tr><tr><td>3</td><td>2</td><td>3</td><td>5,0</td><td>2020-01-10 21:18:20.110</td><td>1</td></tr><tr><td>4</td><td>2</td><td>4</td><td>4,5</td><td>2020-01-10 21:18:20.110</td><td>1</td></tr></table>"
                    },
                    "metadata": {
                        "resultSet": {
                            "id": 10,
                            "batchId": 0,
                            "rowCount": 4,
                            "complete": true,
                            "columnInfo": [
                                {
                                    "isBytes": false,
                                    "isChars": false,
                                    "isSqlVariant": false,
                                    "isUdt": false,
                                    "isXml": false,
                                    "isJson": false,
                                    "sqlDbType": 8,
                                    "isHierarchyId": false,
                                    "isSqlXmlType": false,
                                    "isUnknownType": false,
                                    "isUpdatable": false,
                                    "allowDBNull": false,
                                    "baseCatalogName": null,
                                    "baseColumnName": null,
                                    "baseSchemaName": null,
                                    "baseServerName": null,
                                    "baseTableName": null,
                                    "columnName": "ID_Obrona",
                                    "columnOrdinal": 0,
                                    "columnSize": 4,
                                    "isAliased": null,
                                    "isAutoIncrement": true,
                                    "isExpression": null,
                                    "isHidden": null,
                                    "isIdentity": true,
                                    "isKey": null,
                                    "isLong": false,
                                    "isReadOnly": true,
                                    "isUnique": false,
                                    "numericPrecision": 10,
                                    "numericScale": 255,
                                    "udtAssemblyQualifiedName": null,
                                    "dataType": "System.Int32, System.Private.CoreLib, Version=4.0.0.0, Culture=neutral, PublicKeyToken=7cec85d7bea7798e",
                                    "dataTypeName": "int"
                                },
                                {
                                    "isBytes": false,
                                    "isChars": false,
                                    "isSqlVariant": false,
                                    "isUdt": false,
                                    "isXml": false,
                                    "isJson": false,
                                    "sqlDbType": 8,
                                    "isHierarchyId": false,
                                    "isSqlXmlType": false,
                                    "isUnknownType": false,
                                    "isUpdatable": true,
                                    "allowDBNull": false,
                                    "baseCatalogName": null,
                                    "baseColumnName": null,
                                    "baseSchemaName": null,
                                    "baseServerName": null,
                                    "baseTableName": null,
                                    "columnName": "ID_Przewodniczacy",
                                    "columnOrdinal": 1,
                                    "columnSize": 4,
                                    "isAliased": null,
                                    "isAutoIncrement": false,
                                    "isExpression": null,
                                    "isHidden": null,
                                    "isIdentity": false,
                                    "isKey": null,
                                    "isLong": false,
                                    "isReadOnly": false,
                                    "isUnique": false,
                                    "numericPrecision": 10,
                                    "numericScale": 255,
                                    "udtAssemblyQualifiedName": null,
                                    "dataType": "System.Int32, System.Private.CoreLib, Version=4.0.0.0, Culture=neutral, PublicKeyToken=7cec85d7bea7798e",
                                    "dataTypeName": "int"
                                },
                                {
                                    "isBytes": false,
                                    "isChars": false,
                                    "isSqlVariant": false,
                                    "isUdt": false,
                                    "isXml": false,
                                    "isJson": false,
                                    "sqlDbType": 8,
                                    "isHierarchyId": false,
                                    "isSqlXmlType": false,
                                    "isUnknownType": false,
                                    "isUpdatable": true,
                                    "allowDBNull": false,
                                    "baseCatalogName": null,
                                    "baseColumnName": null,
                                    "baseSchemaName": null,
                                    "baseServerName": null,
                                    "baseTableName": null,
                                    "columnName": "ID_Praca",
                                    "columnOrdinal": 2,
                                    "columnSize": 4,
                                    "isAliased": null,
                                    "isAutoIncrement": false,
                                    "isExpression": null,
                                    "isHidden": null,
                                    "isIdentity": false,
                                    "isKey": null,
                                    "isLong": false,
                                    "isReadOnly": false,
                                    "isUnique": false,
                                    "numericPrecision": 10,
                                    "numericScale": 255,
                                    "udtAssemblyQualifiedName": null,
                                    "dataType": "System.Int32, System.Private.CoreLib, Version=4.0.0.0, Culture=neutral, PublicKeyToken=7cec85d7bea7798e",
                                    "dataTypeName": "int"
                                },
                                {
                                    "isBytes": false,
                                    "isChars": false,
                                    "isSqlVariant": false,
                                    "isUdt": false,
                                    "isXml": false,
                                    "isJson": false,
                                    "sqlDbType": 5,
                                    "isHierarchyId": false,
                                    "isSqlXmlType": false,
                                    "isUnknownType": false,
                                    "isUpdatable": true,
                                    "allowDBNull": true,
                                    "baseCatalogName": null,
                                    "baseColumnName": null,
                                    "baseSchemaName": null,
                                    "baseServerName": null,
                                    "baseTableName": null,
                                    "columnName": "OcenaKoncowa",
                                    "columnOrdinal": 3,
                                    "columnSize": 17,
                                    "isAliased": null,
                                    "isAutoIncrement": false,
                                    "isExpression": null,
                                    "isHidden": null,
                                    "isIdentity": false,
                                    "isKey": null,
                                    "isLong": false,
                                    "isReadOnly": false,
                                    "isUnique": false,
                                    "numericPrecision": 2,
                                    "numericScale": 1,
                                    "udtAssemblyQualifiedName": null,
                                    "dataType": "System.Decimal, System.Private.CoreLib, Version=4.0.0.0, Culture=neutral, PublicKeyToken=7cec85d7bea7798e",
                                    "dataTypeName": "decimal"
                                },
                                {
                                    "isBytes": false,
                                    "isChars": false,
                                    "isSqlVariant": false,
                                    "isUdt": false,
                                    "isXml": false,
                                    "isJson": false,
                                    "sqlDbType": 4,
                                    "isHierarchyId": false,
                                    "isSqlXmlType": false,
                                    "isUnknownType": false,
                                    "isUpdatable": true,
                                    "allowDBNull": true,
                                    "baseCatalogName": null,
                                    "baseColumnName": null,
                                    "baseSchemaName": null,
                                    "baseServerName": null,
                                    "baseTableName": null,
                                    "columnName": "DataObrony",
                                    "columnOrdinal": 4,
                                    "columnSize": 8,
                                    "isAliased": null,
                                    "isAutoIncrement": false,
                                    "isExpression": null,
                                    "isHidden": null,
                                    "isIdentity": false,
                                    "isKey": null,
                                    "isLong": false,
                                    "isReadOnly": false,
                                    "isUnique": false,
                                    "numericPrecision": 23,
                                    "numericScale": 3,
                                    "udtAssemblyQualifiedName": null,
                                    "dataType": "System.DateTime, System.Private.CoreLib, Version=4.0.0.0, Culture=neutral, PublicKeyToken=7cec85d7bea7798e",
                                    "dataTypeName": "datetime"
                                },
                                {
                                    "isBytes": false,
                                    "isChars": false,
                                    "isSqlVariant": false,
                                    "isUdt": false,
                                    "isXml": false,
                                    "isJson": false,
                                    "sqlDbType": 8,
                                    "isHierarchyId": false,
                                    "isSqlXmlType": false,
                                    "isUnknownType": false,
                                    "isUpdatable": true,
                                    "allowDBNull": true,
                                    "baseCatalogName": null,
                                    "baseColumnName": null,
                                    "baseSchemaName": null,
                                    "baseServerName": null,
                                    "baseTableName": null,
                                    "columnName": "ID_MiejsceObrony",
                                    "columnOrdinal": 5,
                                    "columnSize": 4,
                                    "isAliased": null,
                                    "isAutoIncrement": false,
                                    "isExpression": null,
                                    "isHidden": null,
                                    "isIdentity": false,
                                    "isKey": null,
                                    "isLong": false,
                                    "isReadOnly": false,
                                    "isUnique": false,
                                    "numericPrecision": 10,
                                    "numericScale": 255,
                                    "udtAssemblyQualifiedName": null,
                                    "dataType": "System.Int32, System.Private.CoreLib, Version=4.0.0.0, Culture=neutral, PublicKeyToken=7cec85d7bea7798e",
                                    "dataTypeName": "int"
                                }
                            ],
                            "specialAction": {
                                "none": true,
                                "expectYukonXMLShowPlan": false
                            }
                        }
                    }
                },
                {
                    "output_type": "execute_result",
                    "execution_count": 212,
                    "data": {
                        "application/vnd.dataresource+json": {
                            "schema": {
                                "fields": [
                                    {
                                        "name": "ID_Slowo"
                                    },
                                    {
                                        "name": "ID_Praca"
                                    }
                                ]
                            },
                            "data": [
                                {
                                    "0": "1",
                                    "1": "1"
                                },
                                {
                                    "0": "1",
                                    "1": "2"
                                },
                                {
                                    "0": "1",
                                    "1": "3"
                                },
                                {
                                    "0": "1",
                                    "1": "4"
                                },
                                {
                                    "0": "2",
                                    "1": "3"
                                },
                                {
                                    "0": "3",
                                    "1": "2"
                                }
                            ]
                        },
                        "text/html": "<table><tr><th>ID_Slowo</th><th>ID_Praca</th></tr><tr><td>1</td><td>1</td></tr><tr><td>1</td><td>2</td></tr><tr><td>1</td><td>3</td></tr><tr><td>1</td><td>4</td></tr><tr><td>2</td><td>3</td></tr><tr><td>3</td><td>2</td></tr></table>"
                    },
                    "metadata": {
                        "resultSet": {
                            "id": 11,
                            "batchId": 0,
                            "rowCount": 6,
                            "complete": true,
                            "columnInfo": [
                                {
                                    "isBytes": false,
                                    "isChars": false,
                                    "isSqlVariant": false,
                                    "isUdt": false,
                                    "isXml": false,
                                    "isJson": false,
                                    "sqlDbType": 8,
                                    "isHierarchyId": false,
                                    "isSqlXmlType": false,
                                    "isUnknownType": false,
                                    "isUpdatable": true,
                                    "allowDBNull": false,
                                    "baseCatalogName": null,
                                    "baseColumnName": null,
                                    "baseSchemaName": null,
                                    "baseServerName": null,
                                    "baseTableName": null,
                                    "columnName": "ID_Slowo",
                                    "columnOrdinal": 0,
                                    "columnSize": 4,
                                    "isAliased": null,
                                    "isAutoIncrement": false,
                                    "isExpression": null,
                                    "isHidden": null,
                                    "isIdentity": false,
                                    "isKey": null,
                                    "isLong": false,
                                    "isReadOnly": false,
                                    "isUnique": false,
                                    "numericPrecision": 10,
                                    "numericScale": 255,
                                    "udtAssemblyQualifiedName": null,
                                    "dataType": "System.Int32, System.Private.CoreLib, Version=4.0.0.0, Culture=neutral, PublicKeyToken=7cec85d7bea7798e",
                                    "dataTypeName": "int"
                                },
                                {
                                    "isBytes": false,
                                    "isChars": false,
                                    "isSqlVariant": false,
                                    "isUdt": false,
                                    "isXml": false,
                                    "isJson": false,
                                    "sqlDbType": 8,
                                    "isHierarchyId": false,
                                    "isSqlXmlType": false,
                                    "isUnknownType": false,
                                    "isUpdatable": true,
                                    "allowDBNull": false,
                                    "baseCatalogName": null,
                                    "baseColumnName": null,
                                    "baseSchemaName": null,
                                    "baseServerName": null,
                                    "baseTableName": null,
                                    "columnName": "ID_Praca",
                                    "columnOrdinal": 1,
                                    "columnSize": 4,
                                    "isAliased": null,
                                    "isAutoIncrement": false,
                                    "isExpression": null,
                                    "isHidden": null,
                                    "isIdentity": false,
                                    "isKey": null,
                                    "isLong": false,
                                    "isReadOnly": false,
                                    "isUnique": false,
                                    "numericPrecision": 10,
                                    "numericScale": 255,
                                    "udtAssemblyQualifiedName": null,
                                    "dataType": "System.Int32, System.Private.CoreLib, Version=4.0.0.0, Culture=neutral, PublicKeyToken=7cec85d7bea7798e",
                                    "dataTypeName": "int"
                                }
                            ],
                            "specialAction": {
                                "none": true,
                                "expectYukonXMLShowPlan": false
                            }
                        }
                    }
                },
                {
                    "output_type": "execute_result",
                    "execution_count": 212,
                    "data": {
                        "application/vnd.dataresource+json": {
                            "schema": {
                                "fields": [
                                    {
                                        "name": "ID_Praca"
                                    },
                                    {
                                        "name": "ID_Recenzent"
                                    },
                                    {
                                        "name": "Ocena"
                                    },
                                    {
                                        "name": "DataOceny"
                                    },
                                    {
                                        "name": "Komentarz"
                                    }
                                ]
                            },
                            "data": [
                                {
                                    "0": "1",
                                    "1": "1",
                                    "2": "4,0",
                                    "3": "NULL",
                                    "4": "Caly komentarz na temat pracy"
                                }
                            ]
                        },
                        "text/html": "<table><tr><th>ID_Praca</th><th>ID_Recenzent</th><th>Ocena</th><th>DataOceny</th><th>Komentarz</th></tr><tr><td>1</td><td>1</td><td>4,0</td><td>NULL</td><td>Caly komentarz na temat pracy</td></tr></table>"
                    },
                    "metadata": {
                        "resultSet": {
                            "id": 12,
                            "batchId": 0,
                            "rowCount": 1,
                            "complete": true,
                            "columnInfo": [
                                {
                                    "isBytes": false,
                                    "isChars": false,
                                    "isSqlVariant": false,
                                    "isUdt": false,
                                    "isXml": false,
                                    "isJson": false,
                                    "sqlDbType": 8,
                                    "isHierarchyId": false,
                                    "isSqlXmlType": false,
                                    "isUnknownType": false,
                                    "isUpdatable": true,
                                    "allowDBNull": false,
                                    "baseCatalogName": null,
                                    "baseColumnName": null,
                                    "baseSchemaName": null,
                                    "baseServerName": null,
                                    "baseTableName": null,
                                    "columnName": "ID_Praca",
                                    "columnOrdinal": 0,
                                    "columnSize": 4,
                                    "isAliased": null,
                                    "isAutoIncrement": false,
                                    "isExpression": null,
                                    "isHidden": null,
                                    "isIdentity": false,
                                    "isKey": null,
                                    "isLong": false,
                                    "isReadOnly": false,
                                    "isUnique": false,
                                    "numericPrecision": 10,
                                    "numericScale": 255,
                                    "udtAssemblyQualifiedName": null,
                                    "dataType": "System.Int32, System.Private.CoreLib, Version=4.0.0.0, Culture=neutral, PublicKeyToken=7cec85d7bea7798e",
                                    "dataTypeName": "int"
                                },
                                {
                                    "isBytes": false,
                                    "isChars": false,
                                    "isSqlVariant": false,
                                    "isUdt": false,
                                    "isXml": false,
                                    "isJson": false,
                                    "sqlDbType": 8,
                                    "isHierarchyId": false,
                                    "isSqlXmlType": false,
                                    "isUnknownType": false,
                                    "isUpdatable": true,
                                    "allowDBNull": false,
                                    "baseCatalogName": null,
                                    "baseColumnName": null,
                                    "baseSchemaName": null,
                                    "baseServerName": null,
                                    "baseTableName": null,
                                    "columnName": "ID_Recenzent",
                                    "columnOrdinal": 1,
                                    "columnSize": 4,
                                    "isAliased": null,
                                    "isAutoIncrement": false,
                                    "isExpression": null,
                                    "isHidden": null,
                                    "isIdentity": false,
                                    "isKey": null,
                                    "isLong": false,
                                    "isReadOnly": false,
                                    "isUnique": false,
                                    "numericPrecision": 10,
                                    "numericScale": 255,
                                    "udtAssemblyQualifiedName": null,
                                    "dataType": "System.Int32, System.Private.CoreLib, Version=4.0.0.0, Culture=neutral, PublicKeyToken=7cec85d7bea7798e",
                                    "dataTypeName": "int"
                                },
                                {
                                    "isBytes": false,
                                    "isChars": false,
                                    "isSqlVariant": false,
                                    "isUdt": false,
                                    "isXml": false,
                                    "isJson": false,
                                    "sqlDbType": 5,
                                    "isHierarchyId": false,
                                    "isSqlXmlType": false,
                                    "isUnknownType": false,
                                    "isUpdatable": true,
                                    "allowDBNull": true,
                                    "baseCatalogName": null,
                                    "baseColumnName": null,
                                    "baseSchemaName": null,
                                    "baseServerName": null,
                                    "baseTableName": null,
                                    "columnName": "Ocena",
                                    "columnOrdinal": 2,
                                    "columnSize": 17,
                                    "isAliased": null,
                                    "isAutoIncrement": false,
                                    "isExpression": null,
                                    "isHidden": null,
                                    "isIdentity": false,
                                    "isKey": null,
                                    "isLong": false,
                                    "isReadOnly": false,
                                    "isUnique": false,
                                    "numericPrecision": 2,
                                    "numericScale": 1,
                                    "udtAssemblyQualifiedName": null,
                                    "dataType": "System.Decimal, System.Private.CoreLib, Version=4.0.0.0, Culture=neutral, PublicKeyToken=7cec85d7bea7798e",
                                    "dataTypeName": "decimal"
                                },
                                {
                                    "isBytes": false,
                                    "isChars": false,
                                    "isSqlVariant": false,
                                    "isUdt": false,
                                    "isXml": false,
                                    "isJson": false,
                                    "sqlDbType": 4,
                                    "isHierarchyId": false,
                                    "isSqlXmlType": false,
                                    "isUnknownType": false,
                                    "isUpdatable": true,
                                    "allowDBNull": true,
                                    "baseCatalogName": null,
                                    "baseColumnName": null,
                                    "baseSchemaName": null,
                                    "baseServerName": null,
                                    "baseTableName": null,
                                    "columnName": "DataOceny",
                                    "columnOrdinal": 3,
                                    "columnSize": 8,
                                    "isAliased": null,
                                    "isAutoIncrement": false,
                                    "isExpression": null,
                                    "isHidden": null,
                                    "isIdentity": false,
                                    "isKey": null,
                                    "isLong": false,
                                    "isReadOnly": false,
                                    "isUnique": false,
                                    "numericPrecision": 23,
                                    "numericScale": 3,
                                    "udtAssemblyQualifiedName": null,
                                    "dataType": "System.DateTime, System.Private.CoreLib, Version=4.0.0.0, Culture=neutral, PublicKeyToken=7cec85d7bea7798e",
                                    "dataTypeName": "datetime"
                                },
                                {
                                    "isBytes": false,
                                    "isChars": true,
                                    "isSqlVariant": false,
                                    "isUdt": false,
                                    "isXml": false,
                                    "isJson": false,
                                    "sqlDbType": 22,
                                    "isHierarchyId": false,
                                    "isSqlXmlType": false,
                                    "isUnknownType": false,
                                    "isUpdatable": true,
                                    "allowDBNull": true,
                                    "baseCatalogName": null,
                                    "baseColumnName": null,
                                    "baseSchemaName": null,
                                    "baseServerName": null,
                                    "baseTableName": null,
                                    "columnName": "Komentarz",
                                    "columnOrdinal": 4,
                                    "columnSize": 2147483647,
                                    "isAliased": null,
                                    "isAutoIncrement": false,
                                    "isExpression": null,
                                    "isHidden": null,
                                    "isIdentity": false,
                                    "isKey": null,
                                    "isLong": true,
                                    "isReadOnly": false,
                                    "isUnique": false,
                                    "numericPrecision": 255,
                                    "numericScale": 255,
                                    "udtAssemblyQualifiedName": null,
                                    "dataType": "System.String, System.Private.CoreLib, Version=4.0.0.0, Culture=neutral, PublicKeyToken=7cec85d7bea7798e",
                                    "dataTypeName": "varchar"
                                }
                            ],
                            "specialAction": {
                                "none": true,
                                "expectYukonXMLShowPlan": false
                            }
                        }
                    }
                }
            ],
            "execution_count": 212
        },
        {
            "cell_type": "markdown",
            "source": [
                "# ZAPYTANIA"
            ],
            "metadata": {
                "azdata_cell_guid": "b4475f58-7d23-49b4-8a1b-7e700c122a9c"
            }
        },
        {
            "cell_type": "code",
            "source": [
                "--wyszukiwanie prac związanych z daną tematyką\r\n",
                "SELECT PracaDyplomowa.ID_Praca,PracaDyplomowa.TematPracy,TypStudiow.NazwaTypu AS Rodzaj,AutorAGG.ImieNazwisko,AutorAGG.ID_Student,CONCAT(Pracownik.Imie,' ',Pracownik.Nazwisko) AS Promotor,\r\n",
                "PracaDyplomowa.OcenaPromotora,PracaDyplomowa.DataZlozenia,Obrona.DataObrony,Obrona.OcenaKoncowa\r\n",
                "FROM PracaDyplomowa \r\n",
                "LEFT JOIN SlowaKluczowe ON PracaDyplomowa.ID_Praca = SlowaKluczowe.ID_Praca\r\n",
                "LEFT JOIN Slowo ON SlowaKluczowe.ID_Slowo = Slowo.ID_Slowo\r\n",
                "LEFT JOIN TypStudiow ON PracaDyplomowa.ID_TypStudiow = TypStudiow.ID_TypStudiow\r\n",
                "LEFT JOIN (\r\n",
                "    SELECT Autor.ID_Praca AS ID_Praca,STRING_AGG(CONCAT(Student.Imie,' ',Student.Nazwisko),', ') AS ImieNazwisko,STRING_AGG(Student.ID_Student,', ') AS ID_Student\r\n",
                "    FROM PracaDyplomowa\r\n",
                "    LEFT JOIN Autor ON Autor.ID_Praca = PracaDyplomowa.ID_Praca\r\n",
                "    LEFT JOIN Student ON Autor.ID_Student = Student.ID_Student\r\n",
                "    GROUP BY Autor.ID_Praca\r\n",
                ") AS AutorAGG ON AutorAGG.ID_Praca = PracaDyplomowa.ID_Praca\r\n",
                "LEFT JOIN Obrona ON Obrona.ID_Praca = PracaDyplomowa.ID_Praca\r\n",
                "LEFT JOIN Pracownik ON Obrona.ID_Przewodniczacy = Pracownik.ID_Pracownik\r\n",
                "WHERE Slowo.Slowo = 'Sztuczna inteligancja'\r\n",
                ""
            ],
            "metadata": {
                "azdata_cell_guid": "c62b9707-7b91-4023-ba2c-5b8df9130e63"
            },
            "outputs": [
                {
                    "output_type": "display_data",
                    "data": {
                        "text/html": "(4 rows affected)"
                    },
                    "metadata": {}
                },
                {
                    "output_type": "display_data",
                    "data": {
                        "text/html": "Total execution time: 00:00:00.100"
                    },
                    "metadata": {}
                },
                {
                    "output_type": "execute_result",
                    "execution_count": 213,
                    "data": {
                        "application/vnd.dataresource+json": {
                            "schema": {
                                "fields": [
                                    {
                                        "name": "ID_Praca"
                                    },
                                    {
                                        "name": "TematPracy"
                                    },
                                    {
                                        "name": "Rodzaj"
                                    },
                                    {
                                        "name": "ImieNazwisko"
                                    },
                                    {
                                        "name": "ID_Student"
                                    },
                                    {
                                        "name": "Promotor"
                                    },
                                    {
                                        "name": "OcenaPromotora"
                                    },
                                    {
                                        "name": "DataZlozenia"
                                    },
                                    {
                                        "name": "DataObrony"
                                    },
                                    {
                                        "name": "OcenaKoncowa"
                                    }
                                ]
                            },
                            "data": [
                                {
                                    "0": "1",
                                    "1": "Grzyby",
                                    "2": "inzynierskie",
                                    "3": "Marcin Bobinski, Dominik Grabiec, Marcel Polak",
                                    "4": "297225, 297226, 297227",
                                    "5": "Olga Olszewska",
                                    "6": "3,0",
                                    "7": "2021-01-10 23:06:04.960",
                                    "8": "NULL",
                                    "9": "3,0"
                                },
                                {
                                    "0": "2",
                                    "1": "Mchy",
                                    "2": "licencjackie",
                                    "3": "Magda Nguyen Hong",
                                    "4": "297228",
                                    "5": "Olga Olszewska",
                                    "6": "3,0",
                                    "7": "NULL",
                                    "8": "2021-01-10 21:18:20.110",
                                    "9": "4,0"
                                },
                                {
                                    "0": "3",
                                    "1": "Kora",
                                    "2": "inzynierskie",
                                    "3": "Marcin Bobinski",
                                    "4": "297225",
                                    "5": "Anna Anielska",
                                    "6": "3,0",
                                    "7": "2021-01-10 23:06:04.977",
                                    "8": "2020-01-10 21:18:20.110",
                                    "9": "5,0"
                                },
                                {
                                    "0": "4",
                                    "1": "Kotki",
                                    "2": "licencjackie",
                                    "3": "Dominik Grabiec",
                                    "4": "297226",
                                    "5": "Anna Anielska",
                                    "6": "3,0",
                                    "7": "2021-01-10 23:06:04.980",
                                    "8": "2020-01-10 21:18:20.110",
                                    "9": "4,5"
                                }
                            ]
                        },
                        "text/html": "<table><tr><th>ID_Praca</th><th>TematPracy</th><th>Rodzaj</th><th>ImieNazwisko</th><th>ID_Student</th><th>Promotor</th><th>OcenaPromotora</th><th>DataZlozenia</th><th>DataObrony</th><th>OcenaKoncowa</th></tr><tr><td>1</td><td>Grzyby</td><td>inzynierskie</td><td>Marcin Bobinski, Dominik Grabiec, Marcel Polak</td><td>297225, 297226, 297227</td><td>Olga Olszewska</td><td>3,0</td><td>2021-01-10 23:06:04.960</td><td>NULL</td><td>3,0</td></tr><tr><td>2</td><td>Mchy</td><td>licencjackie</td><td>Magda Nguyen Hong</td><td>297228</td><td>Olga Olszewska</td><td>3,0</td><td>NULL</td><td>2021-01-10 21:18:20.110</td><td>4,0</td></tr><tr><td>3</td><td>Kora</td><td>inzynierskie</td><td>Marcin Bobinski</td><td>297225</td><td>Anna Anielska</td><td>3,0</td><td>2021-01-10 23:06:04.977</td><td>2020-01-10 21:18:20.110</td><td>5,0</td></tr><tr><td>4</td><td>Kotki</td><td>licencjackie</td><td>Dominik Grabiec</td><td>297226</td><td>Anna Anielska</td><td>3,0</td><td>2021-01-10 23:06:04.980</td><td>2020-01-10 21:18:20.110</td><td>4,5</td></tr></table>"
                    },
                    "metadata": {
                        "resultSet": {
                            "id": 0,
                            "batchId": 0,
                            "rowCount": 4,
                            "complete": true,
                            "columnInfo": [
                                {
                                    "isBytes": false,
                                    "isChars": false,
                                    "isSqlVariant": false,
                                    "isUdt": false,
                                    "isXml": false,
                                    "isJson": false,
                                    "sqlDbType": 8,
                                    "isHierarchyId": false,
                                    "isSqlXmlType": false,
                                    "isUnknownType": false,
                                    "isUpdatable": false,
                                    "allowDBNull": false,
                                    "baseCatalogName": null,
                                    "baseColumnName": null,
                                    "baseSchemaName": null,
                                    "baseServerName": null,
                                    "baseTableName": null,
                                    "columnName": "ID_Praca",
                                    "columnOrdinal": 0,
                                    "columnSize": 4,
                                    "isAliased": null,
                                    "isAutoIncrement": true,
                                    "isExpression": null,
                                    "isHidden": null,
                                    "isIdentity": true,
                                    "isKey": null,
                                    "isLong": false,
                                    "isReadOnly": true,
                                    "isUnique": false,
                                    "numericPrecision": 10,
                                    "numericScale": 255,
                                    "udtAssemblyQualifiedName": null,
                                    "dataType": "System.Int32, System.Private.CoreLib, Version=4.0.0.0, Culture=neutral, PublicKeyToken=7cec85d7bea7798e",
                                    "dataTypeName": "int"
                                },
                                {
                                    "isBytes": false,
                                    "isChars": true,
                                    "isSqlVariant": false,
                                    "isUdt": false,
                                    "isXml": false,
                                    "isJson": false,
                                    "sqlDbType": 22,
                                    "isHierarchyId": false,
                                    "isSqlXmlType": false,
                                    "isUnknownType": false,
                                    "isUpdatable": true,
                                    "allowDBNull": false,
                                    "baseCatalogName": null,
                                    "baseColumnName": null,
                                    "baseSchemaName": null,
                                    "baseServerName": null,
                                    "baseTableName": null,
                                    "columnName": "TematPracy",
                                    "columnOrdinal": 1,
                                    "columnSize": 2147483647,
                                    "isAliased": null,
                                    "isAutoIncrement": false,
                                    "isExpression": null,
                                    "isHidden": null,
                                    "isIdentity": false,
                                    "isKey": null,
                                    "isLong": true,
                                    "isReadOnly": false,
                                    "isUnique": false,
                                    "numericPrecision": 255,
                                    "numericScale": 255,
                                    "udtAssemblyQualifiedName": null,
                                    "dataType": "System.String, System.Private.CoreLib, Version=4.0.0.0, Culture=neutral, PublicKeyToken=7cec85d7bea7798e",
                                    "dataTypeName": "varchar"
                                },
                                {
                                    "isBytes": false,
                                    "isChars": true,
                                    "isSqlVariant": false,
                                    "isUdt": false,
                                    "isXml": false,
                                    "isJson": false,
                                    "sqlDbType": 22,
                                    "isHierarchyId": false,
                                    "isSqlXmlType": false,
                                    "isUnknownType": false,
                                    "isUpdatable": true,
                                    "allowDBNull": true,
                                    "baseCatalogName": null,
                                    "baseColumnName": null,
                                    "baseSchemaName": null,
                                    "baseServerName": null,
                                    "baseTableName": null,
                                    "columnName": "Rodzaj",
                                    "columnOrdinal": 2,
                                    "columnSize": 20,
                                    "isAliased": null,
                                    "isAutoIncrement": false,
                                    "isExpression": null,
                                    "isHidden": null,
                                    "isIdentity": false,
                                    "isKey": null,
                                    "isLong": false,
                                    "isReadOnly": false,
                                    "isUnique": false,
                                    "numericPrecision": 255,
                                    "numericScale": 255,
                                    "udtAssemblyQualifiedName": null,
                                    "dataType": "System.String, System.Private.CoreLib, Version=4.0.0.0, Culture=neutral, PublicKeyToken=7cec85d7bea7798e",
                                    "dataTypeName": "varchar"
                                },
                                {
                                    "isBytes": false,
                                    "isChars": true,
                                    "isSqlVariant": false,
                                    "isUdt": false,
                                    "isXml": false,
                                    "isJson": false,
                                    "sqlDbType": 22,
                                    "isHierarchyId": false,
                                    "isSqlXmlType": false,
                                    "isUnknownType": false,
                                    "isUpdatable": false,
                                    "allowDBNull": true,
                                    "baseCatalogName": null,
                                    "baseColumnName": null,
                                    "baseSchemaName": null,
                                    "baseServerName": null,
                                    "baseTableName": null,
                                    "columnName": "ImieNazwisko",
                                    "columnOrdinal": 3,
                                    "columnSize": 8000,
                                    "isAliased": null,
                                    "isAutoIncrement": false,
                                    "isExpression": null,
                                    "isHidden": null,
                                    "isIdentity": false,
                                    "isKey": null,
                                    "isLong": false,
                                    "isReadOnly": true,
                                    "isUnique": false,
                                    "numericPrecision": 255,
                                    "numericScale": 255,
                                    "udtAssemblyQualifiedName": null,
                                    "dataType": "System.String, System.Private.CoreLib, Version=4.0.0.0, Culture=neutral, PublicKeyToken=7cec85d7bea7798e",
                                    "dataTypeName": "varchar"
                                },
                                {
                                    "isBytes": false,
                                    "isChars": true,
                                    "isSqlVariant": false,
                                    "isUdt": false,
                                    "isXml": false,
                                    "isJson": false,
                                    "sqlDbType": 12,
                                    "isHierarchyId": false,
                                    "isSqlXmlType": false,
                                    "isUnknownType": false,
                                    "isUpdatable": false,
                                    "allowDBNull": true,
                                    "baseCatalogName": null,
                                    "baseColumnName": null,
                                    "baseSchemaName": null,
                                    "baseServerName": null,
                                    "baseTableName": null,
                                    "columnName": "ID_Student",
                                    "columnOrdinal": 4,
                                    "columnSize": 4000,
                                    "isAliased": null,
                                    "isAutoIncrement": false,
                                    "isExpression": null,
                                    "isHidden": null,
                                    "isIdentity": false,
                                    "isKey": null,
                                    "isLong": false,
                                    "isReadOnly": true,
                                    "isUnique": false,
                                    "numericPrecision": 255,
                                    "numericScale": 255,
                                    "udtAssemblyQualifiedName": null,
                                    "dataType": "System.String, System.Private.CoreLib, Version=4.0.0.0, Culture=neutral, PublicKeyToken=7cec85d7bea7798e",
                                    "dataTypeName": "nvarchar"
                                },
                                {
                                    "isBytes": false,
                                    "isChars": true,
                                    "isSqlVariant": false,
                                    "isUdt": false,
                                    "isXml": false,
                                    "isJson": false,
                                    "sqlDbType": 22,
                                    "isHierarchyId": false,
                                    "isSqlXmlType": false,
                                    "isUnknownType": false,
                                    "isUpdatable": false,
                                    "allowDBNull": false,
                                    "baseCatalogName": null,
                                    "baseColumnName": null,
                                    "baseSchemaName": null,
                                    "baseServerName": null,
                                    "baseTableName": null,
                                    "columnName": "Promotor",
                                    "columnOrdinal": 5,
                                    "columnSize": 201,
                                    "isAliased": null,
                                    "isAutoIncrement": false,
                                    "isExpression": null,
                                    "isHidden": null,
                                    "isIdentity": false,
                                    "isKey": null,
                                    "isLong": false,
                                    "isReadOnly": true,
                                    "isUnique": false,
                                    "numericPrecision": 255,
                                    "numericScale": 255,
                                    "udtAssemblyQualifiedName": null,
                                    "dataType": "System.String, System.Private.CoreLib, Version=4.0.0.0, Culture=neutral, PublicKeyToken=7cec85d7bea7798e",
                                    "dataTypeName": "varchar"
                                },
                                {
                                    "isBytes": false,
                                    "isChars": false,
                                    "isSqlVariant": false,
                                    "isUdt": false,
                                    "isXml": false,
                                    "isJson": false,
                                    "sqlDbType": 5,
                                    "isHierarchyId": false,
                                    "isSqlXmlType": false,
                                    "isUnknownType": false,
                                    "isUpdatable": true,
                                    "allowDBNull": true,
                                    "baseCatalogName": null,
                                    "baseColumnName": null,
                                    "baseSchemaName": null,
                                    "baseServerName": null,
                                    "baseTableName": null,
                                    "columnName": "OcenaPromotora",
                                    "columnOrdinal": 6,
                                    "columnSize": 17,
                                    "isAliased": null,
                                    "isAutoIncrement": false,
                                    "isExpression": null,
                                    "isHidden": null,
                                    "isIdentity": false,
                                    "isKey": null,
                                    "isLong": false,
                                    "isReadOnly": false,
                                    "isUnique": false,
                                    "numericPrecision": 2,
                                    "numericScale": 1,
                                    "udtAssemblyQualifiedName": null,
                                    "dataType": "System.Decimal, System.Private.CoreLib, Version=4.0.0.0, Culture=neutral, PublicKeyToken=7cec85d7bea7798e",
                                    "dataTypeName": "decimal"
                                },
                                {
                                    "isBytes": false,
                                    "isChars": false,
                                    "isSqlVariant": false,
                                    "isUdt": false,
                                    "isXml": false,
                                    "isJson": false,
                                    "sqlDbType": 4,
                                    "isHierarchyId": false,
                                    "isSqlXmlType": false,
                                    "isUnknownType": false,
                                    "isUpdatable": true,
                                    "allowDBNull": true,
                                    "baseCatalogName": null,
                                    "baseColumnName": null,
                                    "baseSchemaName": null,
                                    "baseServerName": null,
                                    "baseTableName": null,
                                    "columnName": "DataZlozenia",
                                    "columnOrdinal": 7,
                                    "columnSize": 8,
                                    "isAliased": null,
                                    "isAutoIncrement": false,
                                    "isExpression": null,
                                    "isHidden": null,
                                    "isIdentity": false,
                                    "isKey": null,
                                    "isLong": false,
                                    "isReadOnly": false,
                                    "isUnique": false,
                                    "numericPrecision": 23,
                                    "numericScale": 3,
                                    "udtAssemblyQualifiedName": null,
                                    "dataType": "System.DateTime, System.Private.CoreLib, Version=4.0.0.0, Culture=neutral, PublicKeyToken=7cec85d7bea7798e",
                                    "dataTypeName": "datetime"
                                },
                                {
                                    "isBytes": false,
                                    "isChars": false,
                                    "isSqlVariant": false,
                                    "isUdt": false,
                                    "isXml": false,
                                    "isJson": false,
                                    "sqlDbType": 4,
                                    "isHierarchyId": false,
                                    "isSqlXmlType": false,
                                    "isUnknownType": false,
                                    "isUpdatable": true,
                                    "allowDBNull": true,
                                    "baseCatalogName": null,
                                    "baseColumnName": null,
                                    "baseSchemaName": null,
                                    "baseServerName": null,
                                    "baseTableName": null,
                                    "columnName": "DataObrony",
                                    "columnOrdinal": 8,
                                    "columnSize": 8,
                                    "isAliased": null,
                                    "isAutoIncrement": false,
                                    "isExpression": null,
                                    "isHidden": null,
                                    "isIdentity": false,
                                    "isKey": null,
                                    "isLong": false,
                                    "isReadOnly": false,
                                    "isUnique": false,
                                    "numericPrecision": 23,
                                    "numericScale": 3,
                                    "udtAssemblyQualifiedName": null,
                                    "dataType": "System.DateTime, System.Private.CoreLib, Version=4.0.0.0, Culture=neutral, PublicKeyToken=7cec85d7bea7798e",
                                    "dataTypeName": "datetime"
                                },
                                {
                                    "isBytes": false,
                                    "isChars": false,
                                    "isSqlVariant": false,
                                    "isUdt": false,
                                    "isXml": false,
                                    "isJson": false,
                                    "sqlDbType": 5,
                                    "isHierarchyId": false,
                                    "isSqlXmlType": false,
                                    "isUnknownType": false,
                                    "isUpdatable": true,
                                    "allowDBNull": true,
                                    "baseCatalogName": null,
                                    "baseColumnName": null,
                                    "baseSchemaName": null,
                                    "baseServerName": null,
                                    "baseTableName": null,
                                    "columnName": "OcenaKoncowa",
                                    "columnOrdinal": 9,
                                    "columnSize": 17,
                                    "isAliased": null,
                                    "isAutoIncrement": false,
                                    "isExpression": null,
                                    "isHidden": null,
                                    "isIdentity": false,
                                    "isKey": null,
                                    "isLong": false,
                                    "isReadOnly": false,
                                    "isUnique": false,
                                    "numericPrecision": 2,
                                    "numericScale": 1,
                                    "udtAssemblyQualifiedName": null,
                                    "dataType": "System.Decimal, System.Private.CoreLib, Version=4.0.0.0, Culture=neutral, PublicKeyToken=7cec85d7bea7798e",
                                    "dataTypeName": "decimal"
                                }
                            ],
                            "specialAction": {
                                "none": true,
                                "expectYukonXMLShowPlan": false
                            }
                        }
                    }
                }
            ],
            "execution_count": 213
        },
        {
            "cell_type": "code",
            "source": [
                "--odnalezienie prac prowadzonych przez określonego promotora\r\n",
                "SELECT PracaDyplomowa.ID_Praca,PracaDyplomowa.TematPracy,TypStudiow.NazwaTypu AS Rodzaj,AutorAGG.ImieNazwisko,AutorAGG.ID_Student,CONCAT(Pracownik.Imie,' ',Pracownik.Nazwisko) AS Promotor,\r\n",
                "PracaDyplomowa.OcenaPromotora,PracaDyplomowa.DataZlozenia,Obrona.DataObrony,Obrona.OcenaKoncowa\r\n",
                "FROM PracaDyplomowa \r\n",
                "LEFT JOIN Pracownik ON PracaDyplomowa.ID_Promotor = Pracownik.ID_Pracownik\r\n",
                "LEFT JOIN TypStudiow ON PracaDyplomowa.ID_TypStudiow = TypStudiow.ID_TypStudiow\r\n",
                "LEFT JOIN (\r\n",
                "    SELECT Autor.ID_Praca AS ID_Praca,STRING_AGG(CONCAT(Student.Imie,' ',Student.Nazwisko),', ') AS ImieNazwisko,STRING_AGG(Student.ID_Student,', ') AS ID_Student\r\n",
                "    FROM PracaDyplomowa\r\n",
                "    LEFT JOIN Autor ON Autor.ID_Praca = PracaDyplomowa.ID_Praca\r\n",
                "    LEFT JOIN Student ON Autor.ID_Student = Student.ID_Student\r\n",
                "    GROUP BY Autor.ID_Praca\r\n",
                ") AS AutorAGG ON AutorAGG.ID_Praca = PracaDyplomowa.ID_Praca\r\n",
                "LEFT JOIN Obrona ON Obrona.ID_Praca = PracaDyplomowa.ID_Praca\r\n",
                "WHERE Pracownik.ID_Pracownik = 1 -- LUB  Pracownik.Imie = 'Olga' AND Pracownik.Nazwisko = 'Olszewska'"
            ],
            "metadata": {
                "azdata_cell_guid": "2e3a58d4-231c-4e0b-af30-fd3f096afce2"
            },
            "outputs": [
                {
                    "output_type": "display_data",
                    "data": {
                        "text/html": "(2 rows affected)"
                    },
                    "metadata": {}
                },
                {
                    "output_type": "display_data",
                    "data": {
                        "text/html": "Total execution time: 00:00:00.054"
                    },
                    "metadata": {}
                },
                {
                    "output_type": "execute_result",
                    "execution_count": 214,
                    "data": {
                        "application/vnd.dataresource+json": {
                            "schema": {
                                "fields": [
                                    {
                                        "name": "ID_Praca"
                                    },
                                    {
                                        "name": "TematPracy"
                                    },
                                    {
                                        "name": "Rodzaj"
                                    },
                                    {
                                        "name": "ImieNazwisko"
                                    },
                                    {
                                        "name": "ID_Student"
                                    },
                                    {
                                        "name": "Promotor"
                                    },
                                    {
                                        "name": "OcenaPromotora"
                                    },
                                    {
                                        "name": "DataZlozenia"
                                    },
                                    {
                                        "name": "DataObrony"
                                    },
                                    {
                                        "name": "OcenaKoncowa"
                                    }
                                ]
                            },
                            "data": [
                                {
                                    "0": "1",
                                    "1": "Grzyby",
                                    "2": "inzynierskie",
                                    "3": "Marcin Bobinski, Dominik Grabiec, Marcel Polak",
                                    "4": "297225, 297226, 297227",
                                    "5": "Olga Olszewska",
                                    "6": "3,0",
                                    "7": "2021-01-10 23:06:04.960",
                                    "8": "NULL",
                                    "9": "3,0"
                                },
                                {
                                    "0": "2",
                                    "1": "Mchy",
                                    "2": "licencjackie",
                                    "3": "Magda Nguyen Hong",
                                    "4": "297228",
                                    "5": "Olga Olszewska",
                                    "6": "3,0",
                                    "7": "NULL",
                                    "8": "2021-01-10 21:18:20.110",
                                    "9": "4,0"
                                }
                            ]
                        },
                        "text/html": "<table><tr><th>ID_Praca</th><th>TematPracy</th><th>Rodzaj</th><th>ImieNazwisko</th><th>ID_Student</th><th>Promotor</th><th>OcenaPromotora</th><th>DataZlozenia</th><th>DataObrony</th><th>OcenaKoncowa</th></tr><tr><td>1</td><td>Grzyby</td><td>inzynierskie</td><td>Marcin Bobinski, Dominik Grabiec, Marcel Polak</td><td>297225, 297226, 297227</td><td>Olga Olszewska</td><td>3,0</td><td>2021-01-10 23:06:04.960</td><td>NULL</td><td>3,0</td></tr><tr><td>2</td><td>Mchy</td><td>licencjackie</td><td>Magda Nguyen Hong</td><td>297228</td><td>Olga Olszewska</td><td>3,0</td><td>NULL</td><td>2021-01-10 21:18:20.110</td><td>4,0</td></tr></table>"
                    },
                    "metadata": {
                        "resultSet": {
                            "id": 0,
                            "batchId": 0,
                            "rowCount": 2,
                            "complete": true,
                            "columnInfo": [
                                {
                                    "isBytes": false,
                                    "isChars": false,
                                    "isSqlVariant": false,
                                    "isUdt": false,
                                    "isXml": false,
                                    "isJson": false,
                                    "sqlDbType": 8,
                                    "isHierarchyId": false,
                                    "isSqlXmlType": false,
                                    "isUnknownType": false,
                                    "isUpdatable": false,
                                    "allowDBNull": false,
                                    "baseCatalogName": null,
                                    "baseColumnName": null,
                                    "baseSchemaName": null,
                                    "baseServerName": null,
                                    "baseTableName": null,
                                    "columnName": "ID_Praca",
                                    "columnOrdinal": 0,
                                    "columnSize": 4,
                                    "isAliased": null,
                                    "isAutoIncrement": true,
                                    "isExpression": null,
                                    "isHidden": null,
                                    "isIdentity": true,
                                    "isKey": null,
                                    "isLong": false,
                                    "isReadOnly": true,
                                    "isUnique": false,
                                    "numericPrecision": 10,
                                    "numericScale": 255,
                                    "udtAssemblyQualifiedName": null,
                                    "dataType": "System.Int32, System.Private.CoreLib, Version=4.0.0.0, Culture=neutral, PublicKeyToken=7cec85d7bea7798e",
                                    "dataTypeName": "int"
                                },
                                {
                                    "isBytes": false,
                                    "isChars": true,
                                    "isSqlVariant": false,
                                    "isUdt": false,
                                    "isXml": false,
                                    "isJson": false,
                                    "sqlDbType": 22,
                                    "isHierarchyId": false,
                                    "isSqlXmlType": false,
                                    "isUnknownType": false,
                                    "isUpdatable": true,
                                    "allowDBNull": false,
                                    "baseCatalogName": null,
                                    "baseColumnName": null,
                                    "baseSchemaName": null,
                                    "baseServerName": null,
                                    "baseTableName": null,
                                    "columnName": "TematPracy",
                                    "columnOrdinal": 1,
                                    "columnSize": 2147483647,
                                    "isAliased": null,
                                    "isAutoIncrement": false,
                                    "isExpression": null,
                                    "isHidden": null,
                                    "isIdentity": false,
                                    "isKey": null,
                                    "isLong": true,
                                    "isReadOnly": false,
                                    "isUnique": false,
                                    "numericPrecision": 255,
                                    "numericScale": 255,
                                    "udtAssemblyQualifiedName": null,
                                    "dataType": "System.String, System.Private.CoreLib, Version=4.0.0.0, Culture=neutral, PublicKeyToken=7cec85d7bea7798e",
                                    "dataTypeName": "varchar"
                                },
                                {
                                    "isBytes": false,
                                    "isChars": true,
                                    "isSqlVariant": false,
                                    "isUdt": false,
                                    "isXml": false,
                                    "isJson": false,
                                    "sqlDbType": 22,
                                    "isHierarchyId": false,
                                    "isSqlXmlType": false,
                                    "isUnknownType": false,
                                    "isUpdatable": true,
                                    "allowDBNull": true,
                                    "baseCatalogName": null,
                                    "baseColumnName": null,
                                    "baseSchemaName": null,
                                    "baseServerName": null,
                                    "baseTableName": null,
                                    "columnName": "Rodzaj",
                                    "columnOrdinal": 2,
                                    "columnSize": 20,
                                    "isAliased": null,
                                    "isAutoIncrement": false,
                                    "isExpression": null,
                                    "isHidden": null,
                                    "isIdentity": false,
                                    "isKey": null,
                                    "isLong": false,
                                    "isReadOnly": false,
                                    "isUnique": false,
                                    "numericPrecision": 255,
                                    "numericScale": 255,
                                    "udtAssemblyQualifiedName": null,
                                    "dataType": "System.String, System.Private.CoreLib, Version=4.0.0.0, Culture=neutral, PublicKeyToken=7cec85d7bea7798e",
                                    "dataTypeName": "varchar"
                                },
                                {
                                    "isBytes": false,
                                    "isChars": true,
                                    "isSqlVariant": false,
                                    "isUdt": false,
                                    "isXml": false,
                                    "isJson": false,
                                    "sqlDbType": 22,
                                    "isHierarchyId": false,
                                    "isSqlXmlType": false,
                                    "isUnknownType": false,
                                    "isUpdatable": false,
                                    "allowDBNull": true,
                                    "baseCatalogName": null,
                                    "baseColumnName": null,
                                    "baseSchemaName": null,
                                    "baseServerName": null,
                                    "baseTableName": null,
                                    "columnName": "ImieNazwisko",
                                    "columnOrdinal": 3,
                                    "columnSize": 8000,
                                    "isAliased": null,
                                    "isAutoIncrement": false,
                                    "isExpression": null,
                                    "isHidden": null,
                                    "isIdentity": false,
                                    "isKey": null,
                                    "isLong": false,
                                    "isReadOnly": true,
                                    "isUnique": false,
                                    "numericPrecision": 255,
                                    "numericScale": 255,
                                    "udtAssemblyQualifiedName": null,
                                    "dataType": "System.String, System.Private.CoreLib, Version=4.0.0.0, Culture=neutral, PublicKeyToken=7cec85d7bea7798e",
                                    "dataTypeName": "varchar"
                                },
                                {
                                    "isBytes": false,
                                    "isChars": true,
                                    "isSqlVariant": false,
                                    "isUdt": false,
                                    "isXml": false,
                                    "isJson": false,
                                    "sqlDbType": 12,
                                    "isHierarchyId": false,
                                    "isSqlXmlType": false,
                                    "isUnknownType": false,
                                    "isUpdatable": false,
                                    "allowDBNull": true,
                                    "baseCatalogName": null,
                                    "baseColumnName": null,
                                    "baseSchemaName": null,
                                    "baseServerName": null,
                                    "baseTableName": null,
                                    "columnName": "ID_Student",
                                    "columnOrdinal": 4,
                                    "columnSize": 4000,
                                    "isAliased": null,
                                    "isAutoIncrement": false,
                                    "isExpression": null,
                                    "isHidden": null,
                                    "isIdentity": false,
                                    "isKey": null,
                                    "isLong": false,
                                    "isReadOnly": true,
                                    "isUnique": false,
                                    "numericPrecision": 255,
                                    "numericScale": 255,
                                    "udtAssemblyQualifiedName": null,
                                    "dataType": "System.String, System.Private.CoreLib, Version=4.0.0.0, Culture=neutral, PublicKeyToken=7cec85d7bea7798e",
                                    "dataTypeName": "nvarchar"
                                },
                                {
                                    "isBytes": false,
                                    "isChars": true,
                                    "isSqlVariant": false,
                                    "isUdt": false,
                                    "isXml": false,
                                    "isJson": false,
                                    "sqlDbType": 22,
                                    "isHierarchyId": false,
                                    "isSqlXmlType": false,
                                    "isUnknownType": false,
                                    "isUpdatable": false,
                                    "allowDBNull": false,
                                    "baseCatalogName": null,
                                    "baseColumnName": null,
                                    "baseSchemaName": null,
                                    "baseServerName": null,
                                    "baseTableName": null,
                                    "columnName": "Promotor",
                                    "columnOrdinal": 5,
                                    "columnSize": 201,
                                    "isAliased": null,
                                    "isAutoIncrement": false,
                                    "isExpression": null,
                                    "isHidden": null,
                                    "isIdentity": false,
                                    "isKey": null,
                                    "isLong": false,
                                    "isReadOnly": true,
                                    "isUnique": false,
                                    "numericPrecision": 255,
                                    "numericScale": 255,
                                    "udtAssemblyQualifiedName": null,
                                    "dataType": "System.String, System.Private.CoreLib, Version=4.0.0.0, Culture=neutral, PublicKeyToken=7cec85d7bea7798e",
                                    "dataTypeName": "varchar"
                                },
                                {
                                    "isBytes": false,
                                    "isChars": false,
                                    "isSqlVariant": false,
                                    "isUdt": false,
                                    "isXml": false,
                                    "isJson": false,
                                    "sqlDbType": 5,
                                    "isHierarchyId": false,
                                    "isSqlXmlType": false,
                                    "isUnknownType": false,
                                    "isUpdatable": true,
                                    "allowDBNull": true,
                                    "baseCatalogName": null,
                                    "baseColumnName": null,
                                    "baseSchemaName": null,
                                    "baseServerName": null,
                                    "baseTableName": null,
                                    "columnName": "OcenaPromotora",
                                    "columnOrdinal": 6,
                                    "columnSize": 17,
                                    "isAliased": null,
                                    "isAutoIncrement": false,
                                    "isExpression": null,
                                    "isHidden": null,
                                    "isIdentity": false,
                                    "isKey": null,
                                    "isLong": false,
                                    "isReadOnly": false,
                                    "isUnique": false,
                                    "numericPrecision": 2,
                                    "numericScale": 1,
                                    "udtAssemblyQualifiedName": null,
                                    "dataType": "System.Decimal, System.Private.CoreLib, Version=4.0.0.0, Culture=neutral, PublicKeyToken=7cec85d7bea7798e",
                                    "dataTypeName": "decimal"
                                },
                                {
                                    "isBytes": false,
                                    "isChars": false,
                                    "isSqlVariant": false,
                                    "isUdt": false,
                                    "isXml": false,
                                    "isJson": false,
                                    "sqlDbType": 4,
                                    "isHierarchyId": false,
                                    "isSqlXmlType": false,
                                    "isUnknownType": false,
                                    "isUpdatable": true,
                                    "allowDBNull": true,
                                    "baseCatalogName": null,
                                    "baseColumnName": null,
                                    "baseSchemaName": null,
                                    "baseServerName": null,
                                    "baseTableName": null,
                                    "columnName": "DataZlozenia",
                                    "columnOrdinal": 7,
                                    "columnSize": 8,
                                    "isAliased": null,
                                    "isAutoIncrement": false,
                                    "isExpression": null,
                                    "isHidden": null,
                                    "isIdentity": false,
                                    "isKey": null,
                                    "isLong": false,
                                    "isReadOnly": false,
                                    "isUnique": false,
                                    "numericPrecision": 23,
                                    "numericScale": 3,
                                    "udtAssemblyQualifiedName": null,
                                    "dataType": "System.DateTime, System.Private.CoreLib, Version=4.0.0.0, Culture=neutral, PublicKeyToken=7cec85d7bea7798e",
                                    "dataTypeName": "datetime"
                                },
                                {
                                    "isBytes": false,
                                    "isChars": false,
                                    "isSqlVariant": false,
                                    "isUdt": false,
                                    "isXml": false,
                                    "isJson": false,
                                    "sqlDbType": 4,
                                    "isHierarchyId": false,
                                    "isSqlXmlType": false,
                                    "isUnknownType": false,
                                    "isUpdatable": true,
                                    "allowDBNull": true,
                                    "baseCatalogName": null,
                                    "baseColumnName": null,
                                    "baseSchemaName": null,
                                    "baseServerName": null,
                                    "baseTableName": null,
                                    "columnName": "DataObrony",
                                    "columnOrdinal": 8,
                                    "columnSize": 8,
                                    "isAliased": null,
                                    "isAutoIncrement": false,
                                    "isExpression": null,
                                    "isHidden": null,
                                    "isIdentity": false,
                                    "isKey": null,
                                    "isLong": false,
                                    "isReadOnly": false,
                                    "isUnique": false,
                                    "numericPrecision": 23,
                                    "numericScale": 3,
                                    "udtAssemblyQualifiedName": null,
                                    "dataType": "System.DateTime, System.Private.CoreLib, Version=4.0.0.0, Culture=neutral, PublicKeyToken=7cec85d7bea7798e",
                                    "dataTypeName": "datetime"
                                },
                                {
                                    "isBytes": false,
                                    "isChars": false,
                                    "isSqlVariant": false,
                                    "isUdt": false,
                                    "isXml": false,
                                    "isJson": false,
                                    "sqlDbType": 5,
                                    "isHierarchyId": false,
                                    "isSqlXmlType": false,
                                    "isUnknownType": false,
                                    "isUpdatable": true,
                                    "allowDBNull": true,
                                    "baseCatalogName": null,
                                    "baseColumnName": null,
                                    "baseSchemaName": null,
                                    "baseServerName": null,
                                    "baseTableName": null,
                                    "columnName": "OcenaKoncowa",
                                    "columnOrdinal": 9,
                                    "columnSize": 17,
                                    "isAliased": null,
                                    "isAutoIncrement": false,
                                    "isExpression": null,
                                    "isHidden": null,
                                    "isIdentity": false,
                                    "isKey": null,
                                    "isLong": false,
                                    "isReadOnly": false,
                                    "isUnique": false,
                                    "numericPrecision": 2,
                                    "numericScale": 1,
                                    "udtAssemblyQualifiedName": null,
                                    "dataType": "System.Decimal, System.Private.CoreLib, Version=4.0.0.0, Culture=neutral, PublicKeyToken=7cec85d7bea7798e",
                                    "dataTypeName": "decimal"
                                }
                            ],
                            "specialAction": {
                                "none": true,
                                "expectYukonXMLShowPlan": false
                            }
                        }
                    }
                }
            ],
            "execution_count": 214
        },
        {
            "cell_type": "code",
            "source": [
                "--wyświetlenie informacji o pracy danego studenta\r\n",
                "SELECT PracaDyplomowa.ID_Praca,PracaDyplomowa.TematPracy,TypStudiow.NazwaTypu AS Rodzaj,AutorAGG.ImieNazwisko,AutorAGG.ID_Student,CONCAT(Pracownik.Imie,' ',Pracownik.Nazwisko) AS Promotor,\r\n",
                "PracaDyplomowa.OcenaPromotora,PracaDyplomowa.DataZlozenia,Obrona.DataObrony,Obrona.OcenaKoncowa\r\n",
                "FROM PracaDyplomowa\r\n",
                "LEFT JOIN Autor ON PracaDyplomowa.ID_Praca = Autor.ID_Praca\r\n",
                "Left JOIN Student ON Autor.ID_Student = Student.ID_Student\r\n",
                "LEFT JOIN Pracownik ON PracaDyplomowa.ID_Promotor = Pracownik.ID_Pracownik\r\n",
                "LEFT JOIN TypStudiow ON PracaDyplomowa.ID_TypStudiow = TypStudiow.ID_TypStudiow\r\n",
                "LEFT JOIN (\r\n",
                "    SELECT Autor.ID_Praca AS ID_Praca,STRING_AGG(CONCAT(Student.Imie,' ',Student.Nazwisko),', ') AS ImieNazwisko,STRING_AGG(Student.ID_Student,', ') AS ID_Student\r\n",
                "    FROM PracaDyplomowa\r\n",
                "    LEFT JOIN Autor ON Autor.ID_Praca = PracaDyplomowa.ID_Praca\r\n",
                "    LEFT JOIN Student ON Autor.ID_Student = Student.ID_Student\r\n",
                "    GROUP BY Autor.ID_Praca\r\n",
                ") AS AutorAGG ON AutorAGG.ID_Praca = PracaDyplomowa.ID_Praca\r\n",
                "LEFT JOIN Obrona ON Obrona.ID_Praca = PracaDyplomowa.ID_Praca\r\n",
                "WHERE Student.ID_Student = 297225"
            ],
            "metadata": {
                "azdata_cell_guid": "88764330-070f-421b-9a81-e2e2f02758f6"
            },
            "outputs": [
                {
                    "output_type": "display_data",
                    "data": {
                        "text/html": "(2 rows affected)"
                    },
                    "metadata": {}
                },
                {
                    "output_type": "display_data",
                    "data": {
                        "text/html": "Total execution time: 00:00:00.056"
                    },
                    "metadata": {}
                },
                {
                    "output_type": "execute_result",
                    "execution_count": 215,
                    "data": {
                        "application/vnd.dataresource+json": {
                            "schema": {
                                "fields": [
                                    {
                                        "name": "ID_Praca"
                                    },
                                    {
                                        "name": "TematPracy"
                                    },
                                    {
                                        "name": "Rodzaj"
                                    },
                                    {
                                        "name": "ImieNazwisko"
                                    },
                                    {
                                        "name": "ID_Student"
                                    },
                                    {
                                        "name": "Promotor"
                                    },
                                    {
                                        "name": "OcenaPromotora"
                                    },
                                    {
                                        "name": "DataZlozenia"
                                    },
                                    {
                                        "name": "DataObrony"
                                    },
                                    {
                                        "name": "OcenaKoncowa"
                                    }
                                ]
                            },
                            "data": [
                                {
                                    "0": "1",
                                    "1": "Grzyby",
                                    "2": "inzynierskie",
                                    "3": "Marcin Bobinski, Dominik Grabiec, Marcel Polak",
                                    "4": "297225, 297226, 297227",
                                    "5": "Olga Olszewska",
                                    "6": "3,0",
                                    "7": "2021-01-10 23:06:04.960",
                                    "8": "NULL",
                                    "9": "3,0"
                                },
                                {
                                    "0": "3",
                                    "1": "Kora",
                                    "2": "inzynierskie",
                                    "3": "Marcin Bobinski",
                                    "4": "297225",
                                    "5": "Anna Anielska",
                                    "6": "3,0",
                                    "7": "2021-01-10 23:06:04.977",
                                    "8": "2020-01-10 21:18:20.110",
                                    "9": "5,0"
                                }
                            ]
                        },
                        "text/html": "<table><tr><th>ID_Praca</th><th>TematPracy</th><th>Rodzaj</th><th>ImieNazwisko</th><th>ID_Student</th><th>Promotor</th><th>OcenaPromotora</th><th>DataZlozenia</th><th>DataObrony</th><th>OcenaKoncowa</th></tr><tr><td>1</td><td>Grzyby</td><td>inzynierskie</td><td>Marcin Bobinski, Dominik Grabiec, Marcel Polak</td><td>297225, 297226, 297227</td><td>Olga Olszewska</td><td>3,0</td><td>2021-01-10 23:06:04.960</td><td>NULL</td><td>3,0</td></tr><tr><td>3</td><td>Kora</td><td>inzynierskie</td><td>Marcin Bobinski</td><td>297225</td><td>Anna Anielska</td><td>3,0</td><td>2021-01-10 23:06:04.977</td><td>2020-01-10 21:18:20.110</td><td>5,0</td></tr></table>"
                    },
                    "metadata": {
                        "resultSet": {
                            "id": 0,
                            "batchId": 0,
                            "rowCount": 2,
                            "complete": true,
                            "columnInfo": [
                                {
                                    "isBytes": false,
                                    "isChars": false,
                                    "isSqlVariant": false,
                                    "isUdt": false,
                                    "isXml": false,
                                    "isJson": false,
                                    "sqlDbType": 8,
                                    "isHierarchyId": false,
                                    "isSqlXmlType": false,
                                    "isUnknownType": false,
                                    "isUpdatable": false,
                                    "allowDBNull": false,
                                    "baseCatalogName": null,
                                    "baseColumnName": null,
                                    "baseSchemaName": null,
                                    "baseServerName": null,
                                    "baseTableName": null,
                                    "columnName": "ID_Praca",
                                    "columnOrdinal": 0,
                                    "columnSize": 4,
                                    "isAliased": null,
                                    "isAutoIncrement": true,
                                    "isExpression": null,
                                    "isHidden": null,
                                    "isIdentity": true,
                                    "isKey": null,
                                    "isLong": false,
                                    "isReadOnly": true,
                                    "isUnique": false,
                                    "numericPrecision": 10,
                                    "numericScale": 255,
                                    "udtAssemblyQualifiedName": null,
                                    "dataType": "System.Int32, System.Private.CoreLib, Version=4.0.0.0, Culture=neutral, PublicKeyToken=7cec85d7bea7798e",
                                    "dataTypeName": "int"
                                },
                                {
                                    "isBytes": false,
                                    "isChars": true,
                                    "isSqlVariant": false,
                                    "isUdt": false,
                                    "isXml": false,
                                    "isJson": false,
                                    "sqlDbType": 22,
                                    "isHierarchyId": false,
                                    "isSqlXmlType": false,
                                    "isUnknownType": false,
                                    "isUpdatable": true,
                                    "allowDBNull": false,
                                    "baseCatalogName": null,
                                    "baseColumnName": null,
                                    "baseSchemaName": null,
                                    "baseServerName": null,
                                    "baseTableName": null,
                                    "columnName": "TematPracy",
                                    "columnOrdinal": 1,
                                    "columnSize": 2147483647,
                                    "isAliased": null,
                                    "isAutoIncrement": false,
                                    "isExpression": null,
                                    "isHidden": null,
                                    "isIdentity": false,
                                    "isKey": null,
                                    "isLong": true,
                                    "isReadOnly": false,
                                    "isUnique": false,
                                    "numericPrecision": 255,
                                    "numericScale": 255,
                                    "udtAssemblyQualifiedName": null,
                                    "dataType": "System.String, System.Private.CoreLib, Version=4.0.0.0, Culture=neutral, PublicKeyToken=7cec85d7bea7798e",
                                    "dataTypeName": "varchar"
                                },
                                {
                                    "isBytes": false,
                                    "isChars": true,
                                    "isSqlVariant": false,
                                    "isUdt": false,
                                    "isXml": false,
                                    "isJson": false,
                                    "sqlDbType": 22,
                                    "isHierarchyId": false,
                                    "isSqlXmlType": false,
                                    "isUnknownType": false,
                                    "isUpdatable": true,
                                    "allowDBNull": true,
                                    "baseCatalogName": null,
                                    "baseColumnName": null,
                                    "baseSchemaName": null,
                                    "baseServerName": null,
                                    "baseTableName": null,
                                    "columnName": "Rodzaj",
                                    "columnOrdinal": 2,
                                    "columnSize": 20,
                                    "isAliased": null,
                                    "isAutoIncrement": false,
                                    "isExpression": null,
                                    "isHidden": null,
                                    "isIdentity": false,
                                    "isKey": null,
                                    "isLong": false,
                                    "isReadOnly": false,
                                    "isUnique": false,
                                    "numericPrecision": 255,
                                    "numericScale": 255,
                                    "udtAssemblyQualifiedName": null,
                                    "dataType": "System.String, System.Private.CoreLib, Version=4.0.0.0, Culture=neutral, PublicKeyToken=7cec85d7bea7798e",
                                    "dataTypeName": "varchar"
                                },
                                {
                                    "isBytes": false,
                                    "isChars": true,
                                    "isSqlVariant": false,
                                    "isUdt": false,
                                    "isXml": false,
                                    "isJson": false,
                                    "sqlDbType": 22,
                                    "isHierarchyId": false,
                                    "isSqlXmlType": false,
                                    "isUnknownType": false,
                                    "isUpdatable": false,
                                    "allowDBNull": true,
                                    "baseCatalogName": null,
                                    "baseColumnName": null,
                                    "baseSchemaName": null,
                                    "baseServerName": null,
                                    "baseTableName": null,
                                    "columnName": "ImieNazwisko",
                                    "columnOrdinal": 3,
                                    "columnSize": 8000,
                                    "isAliased": null,
                                    "isAutoIncrement": false,
                                    "isExpression": null,
                                    "isHidden": null,
                                    "isIdentity": false,
                                    "isKey": null,
                                    "isLong": false,
                                    "isReadOnly": true,
                                    "isUnique": false,
                                    "numericPrecision": 255,
                                    "numericScale": 255,
                                    "udtAssemblyQualifiedName": null,
                                    "dataType": "System.String, System.Private.CoreLib, Version=4.0.0.0, Culture=neutral, PublicKeyToken=7cec85d7bea7798e",
                                    "dataTypeName": "varchar"
                                },
                                {
                                    "isBytes": false,
                                    "isChars": true,
                                    "isSqlVariant": false,
                                    "isUdt": false,
                                    "isXml": false,
                                    "isJson": false,
                                    "sqlDbType": 12,
                                    "isHierarchyId": false,
                                    "isSqlXmlType": false,
                                    "isUnknownType": false,
                                    "isUpdatable": false,
                                    "allowDBNull": true,
                                    "baseCatalogName": null,
                                    "baseColumnName": null,
                                    "baseSchemaName": null,
                                    "baseServerName": null,
                                    "baseTableName": null,
                                    "columnName": "ID_Student",
                                    "columnOrdinal": 4,
                                    "columnSize": 4000,
                                    "isAliased": null,
                                    "isAutoIncrement": false,
                                    "isExpression": null,
                                    "isHidden": null,
                                    "isIdentity": false,
                                    "isKey": null,
                                    "isLong": false,
                                    "isReadOnly": true,
                                    "isUnique": false,
                                    "numericPrecision": 255,
                                    "numericScale": 255,
                                    "udtAssemblyQualifiedName": null,
                                    "dataType": "System.String, System.Private.CoreLib, Version=4.0.0.0, Culture=neutral, PublicKeyToken=7cec85d7bea7798e",
                                    "dataTypeName": "nvarchar"
                                },
                                {
                                    "isBytes": false,
                                    "isChars": true,
                                    "isSqlVariant": false,
                                    "isUdt": false,
                                    "isXml": false,
                                    "isJson": false,
                                    "sqlDbType": 22,
                                    "isHierarchyId": false,
                                    "isSqlXmlType": false,
                                    "isUnknownType": false,
                                    "isUpdatable": false,
                                    "allowDBNull": false,
                                    "baseCatalogName": null,
                                    "baseColumnName": null,
                                    "baseSchemaName": null,
                                    "baseServerName": null,
                                    "baseTableName": null,
                                    "columnName": "Promotor",
                                    "columnOrdinal": 5,
                                    "columnSize": 201,
                                    "isAliased": null,
                                    "isAutoIncrement": false,
                                    "isExpression": null,
                                    "isHidden": null,
                                    "isIdentity": false,
                                    "isKey": null,
                                    "isLong": false,
                                    "isReadOnly": true,
                                    "isUnique": false,
                                    "numericPrecision": 255,
                                    "numericScale": 255,
                                    "udtAssemblyQualifiedName": null,
                                    "dataType": "System.String, System.Private.CoreLib, Version=4.0.0.0, Culture=neutral, PublicKeyToken=7cec85d7bea7798e",
                                    "dataTypeName": "varchar"
                                },
                                {
                                    "isBytes": false,
                                    "isChars": false,
                                    "isSqlVariant": false,
                                    "isUdt": false,
                                    "isXml": false,
                                    "isJson": false,
                                    "sqlDbType": 5,
                                    "isHierarchyId": false,
                                    "isSqlXmlType": false,
                                    "isUnknownType": false,
                                    "isUpdatable": true,
                                    "allowDBNull": true,
                                    "baseCatalogName": null,
                                    "baseColumnName": null,
                                    "baseSchemaName": null,
                                    "baseServerName": null,
                                    "baseTableName": null,
                                    "columnName": "OcenaPromotora",
                                    "columnOrdinal": 6,
                                    "columnSize": 17,
                                    "isAliased": null,
                                    "isAutoIncrement": false,
                                    "isExpression": null,
                                    "isHidden": null,
                                    "isIdentity": false,
                                    "isKey": null,
                                    "isLong": false,
                                    "isReadOnly": false,
                                    "isUnique": false,
                                    "numericPrecision": 2,
                                    "numericScale": 1,
                                    "udtAssemblyQualifiedName": null,
                                    "dataType": "System.Decimal, System.Private.CoreLib, Version=4.0.0.0, Culture=neutral, PublicKeyToken=7cec85d7bea7798e",
                                    "dataTypeName": "decimal"
                                },
                                {
                                    "isBytes": false,
                                    "isChars": false,
                                    "isSqlVariant": false,
                                    "isUdt": false,
                                    "isXml": false,
                                    "isJson": false,
                                    "sqlDbType": 4,
                                    "isHierarchyId": false,
                                    "isSqlXmlType": false,
                                    "isUnknownType": false,
                                    "isUpdatable": true,
                                    "allowDBNull": true,
                                    "baseCatalogName": null,
                                    "baseColumnName": null,
                                    "baseSchemaName": null,
                                    "baseServerName": null,
                                    "baseTableName": null,
                                    "columnName": "DataZlozenia",
                                    "columnOrdinal": 7,
                                    "columnSize": 8,
                                    "isAliased": null,
                                    "isAutoIncrement": false,
                                    "isExpression": null,
                                    "isHidden": null,
                                    "isIdentity": false,
                                    "isKey": null,
                                    "isLong": false,
                                    "isReadOnly": false,
                                    "isUnique": false,
                                    "numericPrecision": 23,
                                    "numericScale": 3,
                                    "udtAssemblyQualifiedName": null,
                                    "dataType": "System.DateTime, System.Private.CoreLib, Version=4.0.0.0, Culture=neutral, PublicKeyToken=7cec85d7bea7798e",
                                    "dataTypeName": "datetime"
                                },
                                {
                                    "isBytes": false,
                                    "isChars": false,
                                    "isSqlVariant": false,
                                    "isUdt": false,
                                    "isXml": false,
                                    "isJson": false,
                                    "sqlDbType": 4,
                                    "isHierarchyId": false,
                                    "isSqlXmlType": false,
                                    "isUnknownType": false,
                                    "isUpdatable": true,
                                    "allowDBNull": true,
                                    "baseCatalogName": null,
                                    "baseColumnName": null,
                                    "baseSchemaName": null,
                                    "baseServerName": null,
                                    "baseTableName": null,
                                    "columnName": "DataObrony",
                                    "columnOrdinal": 8,
                                    "columnSize": 8,
                                    "isAliased": null,
                                    "isAutoIncrement": false,
                                    "isExpression": null,
                                    "isHidden": null,
                                    "isIdentity": false,
                                    "isKey": null,
                                    "isLong": false,
                                    "isReadOnly": false,
                                    "isUnique": false,
                                    "numericPrecision": 23,
                                    "numericScale": 3,
                                    "udtAssemblyQualifiedName": null,
                                    "dataType": "System.DateTime, System.Private.CoreLib, Version=4.0.0.0, Culture=neutral, PublicKeyToken=7cec85d7bea7798e",
                                    "dataTypeName": "datetime"
                                },
                                {
                                    "isBytes": false,
                                    "isChars": false,
                                    "isSqlVariant": false,
                                    "isUdt": false,
                                    "isXml": false,
                                    "isJson": false,
                                    "sqlDbType": 5,
                                    "isHierarchyId": false,
                                    "isSqlXmlType": false,
                                    "isUnknownType": false,
                                    "isUpdatable": true,
                                    "allowDBNull": true,
                                    "baseCatalogName": null,
                                    "baseColumnName": null,
                                    "baseSchemaName": null,
                                    "baseServerName": null,
                                    "baseTableName": null,
                                    "columnName": "OcenaKoncowa",
                                    "columnOrdinal": 9,
                                    "columnSize": 17,
                                    "isAliased": null,
                                    "isAutoIncrement": false,
                                    "isExpression": null,
                                    "isHidden": null,
                                    "isIdentity": false,
                                    "isKey": null,
                                    "isLong": false,
                                    "isReadOnly": false,
                                    "isUnique": false,
                                    "numericPrecision": 2,
                                    "numericScale": 1,
                                    "udtAssemblyQualifiedName": null,
                                    "dataType": "System.Decimal, System.Private.CoreLib, Version=4.0.0.0, Culture=neutral, PublicKeyToken=7cec85d7bea7798e",
                                    "dataTypeName": "decimal"
                                }
                            ],
                            "specialAction": {
                                "none": true,
                                "expectYukonXMLShowPlan": false
                            }
                        }
                    }
                }
            ],
            "execution_count": 215
        },
        {
            "cell_type": "code",
            "source": [
                "--wyświetlenie raportu o pracach obronionych na podanym kierunku studiów lub w podanym roku.\r\n",
                "SELECT DISTINCT PracaDyplomowa.ID_Praca,PracaDyplomowa.TematPracy,TypStudiow.NazwaTypu AS Rodzaj,AutorAGG.ImieNazwisko,AutorAGG.ID_Student,CONCAT(Pracownik.Imie,' ',Pracownik.Nazwisko) AS Promotor,\r\n",
                "PracaDyplomowa.OcenaPromotora,PracaDyplomowa.DataZlozenia,Obrona.DataObrony,Obrona.OcenaKoncowa\r\n",
                "FROM PracaDyplomowa\r\n",
                "LEFT JOIN Obrona ON PracaDyplomowa.ID_Praca = Obrona.ID_Praca\r\n",
                "LEFT JOIN Autor ON PracaDyplomowa.ID_Praca = Autor.ID_Praca\r\n",
                "Left JOIN Student ON Autor.ID_Student = Student.ID_Student\r\n",
                "LEFT JOIN StudiowanyKierunek ON StudiowanyKierunek.ID_Student = Student.ID_Student\r\n",
                "LEFT JOIN Studia ON Studia.ID_Studia = StudiowanyKierunek.ID_Studia\r\n",
                "LEFT JOIN Pracownik ON PracaDyplomowa.ID_Promotor = Pracownik.ID_Pracownik\r\n",
                "LEFT JOIN TypStudiow ON PracaDyplomowa.ID_TypStudiow = TypStudiow.ID_TypStudiow\r\n",
                "LEFT JOIN (\r\n",
                "    SELECT Autor.ID_Praca AS ID_Praca,STRING_AGG(CONCAT(Student.Imie,' ',Student.Nazwisko),', ') AS ImieNazwisko,STRING_AGG(Student.ID_Student,', ') AS ID_Student\r\n",
                "    FROM PracaDyplomowa\r\n",
                "    LEFT JOIN Autor ON Autor.ID_Praca = PracaDyplomowa.ID_Praca\r\n",
                "    LEFT JOIN Student ON Autor.ID_Student = Student.ID_Student\r\n",
                "    GROUP BY Autor.ID_Praca\r\n",
                ") AS AutorAGG ON AutorAGG.ID_Praca = PracaDyplomowa.ID_Praca\r\n",
                "WHERE Obrona.OcenaKoncowa>=3.0 AND (DATEPART(YEAR,Obrona.DataObrony) = 2021 OR  StudiowanyKierunek.ID_Studia = 1) -- LUB ZAMIAST 'StudiowanyKierunek.ID_Studia = 1' -> (Studia.Kierunek = '' AND Studia.Wydzial = '' )"
            ],
            "metadata": {
                "azdata_cell_guid": "b50f916c-fc62-4a8d-ae5c-8297e66f675d",
                "tags": []
            },
            "outputs": [
                {
                    "output_type": "display_data",
                    "data": {
                        "text/html": "(4 rows affected)"
                    },
                    "metadata": {}
                },
                {
                    "output_type": "display_data",
                    "data": {
                        "text/html": "Total execution time: 00:00:00.092"
                    },
                    "metadata": {}
                },
                {
                    "output_type": "execute_result",
                    "execution_count": 216,
                    "data": {
                        "application/vnd.dataresource+json": {
                            "schema": {
                                "fields": [
                                    {
                                        "name": "ID_Praca"
                                    },
                                    {
                                        "name": "TematPracy"
                                    },
                                    {
                                        "name": "Rodzaj"
                                    },
                                    {
                                        "name": "ImieNazwisko"
                                    },
                                    {
                                        "name": "ID_Student"
                                    },
                                    {
                                        "name": "Promotor"
                                    },
                                    {
                                        "name": "OcenaPromotora"
                                    },
                                    {
                                        "name": "DataZlozenia"
                                    },
                                    {
                                        "name": "DataObrony"
                                    },
                                    {
                                        "name": "OcenaKoncowa"
                                    }
                                ]
                            },
                            "data": [
                                {
                                    "0": "1",
                                    "1": "Grzyby",
                                    "2": "inzynierskie",
                                    "3": "Marcin Bobinski, Dominik Grabiec, Marcel Polak",
                                    "4": "297225, 297226, 297227",
                                    "5": "Olga Olszewska",
                                    "6": "3,0",
                                    "7": "2021-01-10 23:06:04.960",
                                    "8": "NULL",
                                    "9": "3,0"
                                },
                                {
                                    "0": "2",
                                    "1": "Mchy",
                                    "2": "licencjackie",
                                    "3": "Magda Nguyen Hong",
                                    "4": "297228",
                                    "5": "Olga Olszewska",
                                    "6": "3,0",
                                    "7": "NULL",
                                    "8": "2021-01-10 21:18:20.110",
                                    "9": "4,0"
                                },
                                {
                                    "0": "3",
                                    "1": "Kora",
                                    "2": "inzynierskie",
                                    "3": "Marcin Bobinski",
                                    "4": "297225",
                                    "5": "Anna Anielska",
                                    "6": "3,0",
                                    "7": "2021-01-10 23:06:04.977",
                                    "8": "2020-01-10 21:18:20.110",
                                    "9": "5,0"
                                },
                                {
                                    "0": "4",
                                    "1": "Kotki",
                                    "2": "licencjackie",
                                    "3": "Dominik Grabiec",
                                    "4": "297226",
                                    "5": "Anna Anielska",
                                    "6": "3,0",
                                    "7": "2021-01-10 23:06:04.980",
                                    "8": "2020-01-10 21:18:20.110",
                                    "9": "4,5"
                                }
                            ]
                        },
                        "text/html": "<table><tr><th>ID_Praca</th><th>TematPracy</th><th>Rodzaj</th><th>ImieNazwisko</th><th>ID_Student</th><th>Promotor</th><th>OcenaPromotora</th><th>DataZlozenia</th><th>DataObrony</th><th>OcenaKoncowa</th></tr><tr><td>1</td><td>Grzyby</td><td>inzynierskie</td><td>Marcin Bobinski, Dominik Grabiec, Marcel Polak</td><td>297225, 297226, 297227</td><td>Olga Olszewska</td><td>3,0</td><td>2021-01-10 23:06:04.960</td><td>NULL</td><td>3,0</td></tr><tr><td>2</td><td>Mchy</td><td>licencjackie</td><td>Magda Nguyen Hong</td><td>297228</td><td>Olga Olszewska</td><td>3,0</td><td>NULL</td><td>2021-01-10 21:18:20.110</td><td>4,0</td></tr><tr><td>3</td><td>Kora</td><td>inzynierskie</td><td>Marcin Bobinski</td><td>297225</td><td>Anna Anielska</td><td>3,0</td><td>2021-01-10 23:06:04.977</td><td>2020-01-10 21:18:20.110</td><td>5,0</td></tr><tr><td>4</td><td>Kotki</td><td>licencjackie</td><td>Dominik Grabiec</td><td>297226</td><td>Anna Anielska</td><td>3,0</td><td>2021-01-10 23:06:04.980</td><td>2020-01-10 21:18:20.110</td><td>4,5</td></tr></table>"
                    },
                    "metadata": {
                        "resultSet": {
                            "id": 0,
                            "batchId": 0,
                            "rowCount": 4,
                            "complete": true,
                            "columnInfo": [
                                {
                                    "isBytes": false,
                                    "isChars": false,
                                    "isSqlVariant": false,
                                    "isUdt": false,
                                    "isXml": false,
                                    "isJson": false,
                                    "sqlDbType": 8,
                                    "isHierarchyId": false,
                                    "isSqlXmlType": false,
                                    "isUnknownType": false,
                                    "isUpdatable": false,
                                    "allowDBNull": false,
                                    "baseCatalogName": null,
                                    "baseColumnName": null,
                                    "baseSchemaName": null,
                                    "baseServerName": null,
                                    "baseTableName": null,
                                    "columnName": "ID_Praca",
                                    "columnOrdinal": 0,
                                    "columnSize": 4,
                                    "isAliased": null,
                                    "isAutoIncrement": true,
                                    "isExpression": null,
                                    "isHidden": null,
                                    "isIdentity": true,
                                    "isKey": null,
                                    "isLong": false,
                                    "isReadOnly": true,
                                    "isUnique": false,
                                    "numericPrecision": 10,
                                    "numericScale": 255,
                                    "udtAssemblyQualifiedName": null,
                                    "dataType": "System.Int32, System.Private.CoreLib, Version=4.0.0.0, Culture=neutral, PublicKeyToken=7cec85d7bea7798e",
                                    "dataTypeName": "int"
                                },
                                {
                                    "isBytes": false,
                                    "isChars": true,
                                    "isSqlVariant": false,
                                    "isUdt": false,
                                    "isXml": false,
                                    "isJson": false,
                                    "sqlDbType": 22,
                                    "isHierarchyId": false,
                                    "isSqlXmlType": false,
                                    "isUnknownType": false,
                                    "isUpdatable": true,
                                    "allowDBNull": false,
                                    "baseCatalogName": null,
                                    "baseColumnName": null,
                                    "baseSchemaName": null,
                                    "baseServerName": null,
                                    "baseTableName": null,
                                    "columnName": "TematPracy",
                                    "columnOrdinal": 1,
                                    "columnSize": 2147483647,
                                    "isAliased": null,
                                    "isAutoIncrement": false,
                                    "isExpression": null,
                                    "isHidden": null,
                                    "isIdentity": false,
                                    "isKey": null,
                                    "isLong": true,
                                    "isReadOnly": false,
                                    "isUnique": false,
                                    "numericPrecision": 255,
                                    "numericScale": 255,
                                    "udtAssemblyQualifiedName": null,
                                    "dataType": "System.String, System.Private.CoreLib, Version=4.0.0.0, Culture=neutral, PublicKeyToken=7cec85d7bea7798e",
                                    "dataTypeName": "varchar"
                                },
                                {
                                    "isBytes": false,
                                    "isChars": true,
                                    "isSqlVariant": false,
                                    "isUdt": false,
                                    "isXml": false,
                                    "isJson": false,
                                    "sqlDbType": 22,
                                    "isHierarchyId": false,
                                    "isSqlXmlType": false,
                                    "isUnknownType": false,
                                    "isUpdatable": true,
                                    "allowDBNull": true,
                                    "baseCatalogName": null,
                                    "baseColumnName": null,
                                    "baseSchemaName": null,
                                    "baseServerName": null,
                                    "baseTableName": null,
                                    "columnName": "Rodzaj",
                                    "columnOrdinal": 2,
                                    "columnSize": 20,
                                    "isAliased": null,
                                    "isAutoIncrement": false,
                                    "isExpression": null,
                                    "isHidden": null,
                                    "isIdentity": false,
                                    "isKey": null,
                                    "isLong": false,
                                    "isReadOnly": false,
                                    "isUnique": false,
                                    "numericPrecision": 255,
                                    "numericScale": 255,
                                    "udtAssemblyQualifiedName": null,
                                    "dataType": "System.String, System.Private.CoreLib, Version=4.0.0.0, Culture=neutral, PublicKeyToken=7cec85d7bea7798e",
                                    "dataTypeName": "varchar"
                                },
                                {
                                    "isBytes": false,
                                    "isChars": true,
                                    "isSqlVariant": false,
                                    "isUdt": false,
                                    "isXml": false,
                                    "isJson": false,
                                    "sqlDbType": 22,
                                    "isHierarchyId": false,
                                    "isSqlXmlType": false,
                                    "isUnknownType": false,
                                    "isUpdatable": false,
                                    "allowDBNull": true,
                                    "baseCatalogName": null,
                                    "baseColumnName": null,
                                    "baseSchemaName": null,
                                    "baseServerName": null,
                                    "baseTableName": null,
                                    "columnName": "ImieNazwisko",
                                    "columnOrdinal": 3,
                                    "columnSize": 8000,
                                    "isAliased": null,
                                    "isAutoIncrement": false,
                                    "isExpression": null,
                                    "isHidden": null,
                                    "isIdentity": false,
                                    "isKey": null,
                                    "isLong": false,
                                    "isReadOnly": true,
                                    "isUnique": false,
                                    "numericPrecision": 255,
                                    "numericScale": 255,
                                    "udtAssemblyQualifiedName": null,
                                    "dataType": "System.String, System.Private.CoreLib, Version=4.0.0.0, Culture=neutral, PublicKeyToken=7cec85d7bea7798e",
                                    "dataTypeName": "varchar"
                                },
                                {
                                    "isBytes": false,
                                    "isChars": true,
                                    "isSqlVariant": false,
                                    "isUdt": false,
                                    "isXml": false,
                                    "isJson": false,
                                    "sqlDbType": 12,
                                    "isHierarchyId": false,
                                    "isSqlXmlType": false,
                                    "isUnknownType": false,
                                    "isUpdatable": false,
                                    "allowDBNull": true,
                                    "baseCatalogName": null,
                                    "baseColumnName": null,
                                    "baseSchemaName": null,
                                    "baseServerName": null,
                                    "baseTableName": null,
                                    "columnName": "ID_Student",
                                    "columnOrdinal": 4,
                                    "columnSize": 4000,
                                    "isAliased": null,
                                    "isAutoIncrement": false,
                                    "isExpression": null,
                                    "isHidden": null,
                                    "isIdentity": false,
                                    "isKey": null,
                                    "isLong": false,
                                    "isReadOnly": true,
                                    "isUnique": false,
                                    "numericPrecision": 255,
                                    "numericScale": 255,
                                    "udtAssemblyQualifiedName": null,
                                    "dataType": "System.String, System.Private.CoreLib, Version=4.0.0.0, Culture=neutral, PublicKeyToken=7cec85d7bea7798e",
                                    "dataTypeName": "nvarchar"
                                },
                                {
                                    "isBytes": false,
                                    "isChars": true,
                                    "isSqlVariant": false,
                                    "isUdt": false,
                                    "isXml": false,
                                    "isJson": false,
                                    "sqlDbType": 22,
                                    "isHierarchyId": false,
                                    "isSqlXmlType": false,
                                    "isUnknownType": false,
                                    "isUpdatable": false,
                                    "allowDBNull": false,
                                    "baseCatalogName": null,
                                    "baseColumnName": null,
                                    "baseSchemaName": null,
                                    "baseServerName": null,
                                    "baseTableName": null,
                                    "columnName": "Promotor",
                                    "columnOrdinal": 5,
                                    "columnSize": 201,
                                    "isAliased": null,
                                    "isAutoIncrement": false,
                                    "isExpression": null,
                                    "isHidden": null,
                                    "isIdentity": false,
                                    "isKey": null,
                                    "isLong": false,
                                    "isReadOnly": true,
                                    "isUnique": false,
                                    "numericPrecision": 255,
                                    "numericScale": 255,
                                    "udtAssemblyQualifiedName": null,
                                    "dataType": "System.String, System.Private.CoreLib, Version=4.0.0.0, Culture=neutral, PublicKeyToken=7cec85d7bea7798e",
                                    "dataTypeName": "varchar"
                                },
                                {
                                    "isBytes": false,
                                    "isChars": false,
                                    "isSqlVariant": false,
                                    "isUdt": false,
                                    "isXml": false,
                                    "isJson": false,
                                    "sqlDbType": 5,
                                    "isHierarchyId": false,
                                    "isSqlXmlType": false,
                                    "isUnknownType": false,
                                    "isUpdatable": true,
                                    "allowDBNull": true,
                                    "baseCatalogName": null,
                                    "baseColumnName": null,
                                    "baseSchemaName": null,
                                    "baseServerName": null,
                                    "baseTableName": null,
                                    "columnName": "OcenaPromotora",
                                    "columnOrdinal": 6,
                                    "columnSize": 17,
                                    "isAliased": null,
                                    "isAutoIncrement": false,
                                    "isExpression": null,
                                    "isHidden": null,
                                    "isIdentity": false,
                                    "isKey": null,
                                    "isLong": false,
                                    "isReadOnly": false,
                                    "isUnique": false,
                                    "numericPrecision": 2,
                                    "numericScale": 1,
                                    "udtAssemblyQualifiedName": null,
                                    "dataType": "System.Decimal, System.Private.CoreLib, Version=4.0.0.0, Culture=neutral, PublicKeyToken=7cec85d7bea7798e",
                                    "dataTypeName": "decimal"
                                },
                                {
                                    "isBytes": false,
                                    "isChars": false,
                                    "isSqlVariant": false,
                                    "isUdt": false,
                                    "isXml": false,
                                    "isJson": false,
                                    "sqlDbType": 4,
                                    "isHierarchyId": false,
                                    "isSqlXmlType": false,
                                    "isUnknownType": false,
                                    "isUpdatable": true,
                                    "allowDBNull": true,
                                    "baseCatalogName": null,
                                    "baseColumnName": null,
                                    "baseSchemaName": null,
                                    "baseServerName": null,
                                    "baseTableName": null,
                                    "columnName": "DataZlozenia",
                                    "columnOrdinal": 7,
                                    "columnSize": 8,
                                    "isAliased": null,
                                    "isAutoIncrement": false,
                                    "isExpression": null,
                                    "isHidden": null,
                                    "isIdentity": false,
                                    "isKey": null,
                                    "isLong": false,
                                    "isReadOnly": false,
                                    "isUnique": false,
                                    "numericPrecision": 23,
                                    "numericScale": 3,
                                    "udtAssemblyQualifiedName": null,
                                    "dataType": "System.DateTime, System.Private.CoreLib, Version=4.0.0.0, Culture=neutral, PublicKeyToken=7cec85d7bea7798e",
                                    "dataTypeName": "datetime"
                                },
                                {
                                    "isBytes": false,
                                    "isChars": false,
                                    "isSqlVariant": false,
                                    "isUdt": false,
                                    "isXml": false,
                                    "isJson": false,
                                    "sqlDbType": 4,
                                    "isHierarchyId": false,
                                    "isSqlXmlType": false,
                                    "isUnknownType": false,
                                    "isUpdatable": true,
                                    "allowDBNull": true,
                                    "baseCatalogName": null,
                                    "baseColumnName": null,
                                    "baseSchemaName": null,
                                    "baseServerName": null,
                                    "baseTableName": null,
                                    "columnName": "DataObrony",
                                    "columnOrdinal": 8,
                                    "columnSize": 8,
                                    "isAliased": null,
                                    "isAutoIncrement": false,
                                    "isExpression": null,
                                    "isHidden": null,
                                    "isIdentity": false,
                                    "isKey": null,
                                    "isLong": false,
                                    "isReadOnly": false,
                                    "isUnique": false,
                                    "numericPrecision": 23,
                                    "numericScale": 3,
                                    "udtAssemblyQualifiedName": null,
                                    "dataType": "System.DateTime, System.Private.CoreLib, Version=4.0.0.0, Culture=neutral, PublicKeyToken=7cec85d7bea7798e",
                                    "dataTypeName": "datetime"
                                },
                                {
                                    "isBytes": false,
                                    "isChars": false,
                                    "isSqlVariant": false,
                                    "isUdt": false,
                                    "isXml": false,
                                    "isJson": false,
                                    "sqlDbType": 5,
                                    "isHierarchyId": false,
                                    "isSqlXmlType": false,
                                    "isUnknownType": false,
                                    "isUpdatable": true,
                                    "allowDBNull": true,
                                    "baseCatalogName": null,
                                    "baseColumnName": null,
                                    "baseSchemaName": null,
                                    "baseServerName": null,
                                    "baseTableName": null,
                                    "columnName": "OcenaKoncowa",
                                    "columnOrdinal": 9,
                                    "columnSize": 17,
                                    "isAliased": null,
                                    "isAutoIncrement": false,
                                    "isExpression": null,
                                    "isHidden": null,
                                    "isIdentity": false,
                                    "isKey": null,
                                    "isLong": false,
                                    "isReadOnly": false,
                                    "isUnique": false,
                                    "numericPrecision": 2,
                                    "numericScale": 1,
                                    "udtAssemblyQualifiedName": null,
                                    "dataType": "System.Decimal, System.Private.CoreLib, Version=4.0.0.0, Culture=neutral, PublicKeyToken=7cec85d7bea7798e",
                                    "dataTypeName": "decimal"
                                }
                            ],
                            "specialAction": {
                                "none": true,
                                "expectYukonXMLShowPlan": false
                            }
                        }
                    }
                }
            ],
            "execution_count": 216
        }
    ]
}